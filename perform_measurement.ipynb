{
 "cells": [
  {
   "attachments": {},
   "cell_type": "markdown",
   "metadata": {},
   "source": [
    "Import Libraries"
   ]
  },
  {
   "cell_type": "code",
   "execution_count": 1,
   "metadata": {},
   "outputs": [],
   "source": [
    "from os.path import join\n",
    "from os import listdir\n",
    "import os\n",
    "\n",
    "import json\n",
    "import numpy as np\n",
    "from numpy.linalg import inv\n",
    "from skimage.measure import marching_cubes\n",
    "from scipy.ndimage import zoom\n",
    "import cv2\n",
    "import nibabel as nib\n",
    "import meshio\n",
    "import pymeshlab as ml\n",
    "from pymeshlab.pmeshlab import Mesh as PMLMesh\n",
    "\n",
    "import plotly.graph_objects as go\n",
    "import plotly.io as pio\n",
    "from plotly.subplots import make_subplots\n",
    "pio.renderers.default = \"notebook_connected\""
   ]
  },
  {
   "attachments": {},
   "cell_type": "markdown",
   "metadata": {},
   "source": [
    "Define global variables"
   ]
  },
  {
   "cell_type": "code",
   "execution_count": 2,
   "metadata": {},
   "outputs": [],
   "source": [
    "WORKDIR = os.getcwd()\n",
    "ANNOTATION_FOLDER = join(WORKDIR, \"annotations\")\n",
    "MOUSE_NIFTI_FILE = join(WORKDIR, \"assets\", \"images\", \"sagittal_mouse.nii\")\n",
    "MESHES_AND_VOXELS_FOLDER = join(WORKDIR, \"data\")\n",
    "IMAGE_FILES = join(WORKDIR, \"assets\", \"images\", \"nii-images\")"
   ]
  },
  {
   "attachments": {},
   "cell_type": "markdown",
   "metadata": {},
   "source": [
    "Define the affine transformation matrix "
   ]
  },
  {
   "cell_type": "code",
   "execution_count": 3,
   "metadata": {},
   "outputs": [],
   "source": [
    "AFFINE = np.array(\n",
    "    [[ 0.16952001,  0.,          0.,         21.58835983],\n",
    "    [ 0.,          0.16952001,  0.,         21.69745827],\n",
    "    [ 0.,          0.,          0.168538,   95.23029327],\n",
    "    [ 0.,          0.,          0.,          1.        ]])\n",
    "\n",
    "INV_AFFINE = inv(AFFINE)"
   ]
  },
  {
   "attachments": {},
   "cell_type": "markdown",
   "metadata": {},
   "source": [
    "Perform automatic calculation of mouse image for each organ\n",
    "\n",
    "Data structure:\n",
    "Image name:\n",
    "- Organ name\n",
    "    - Mean response\n",
    "    - Calculated SUV\n",
    "\n",
    "First, we should set the calibration factor"
   ]
  },
  {
   "cell_type": "code",
   "execution_count": 4,
   "metadata": {},
   "outputs": [],
   "source": [
    "CALIBRATION_FACTOR = 441.23"
   ]
  },
  {
   "attachments": {},
   "cell_type": "markdown",
   "metadata": {},
   "source": [
    "Perform DFS through folder structure"
   ]
  },
  {
   "cell_type": "code",
   "execution_count": 5,
   "metadata": {},
   "outputs": [],
   "source": [
    "def list_files(filepath, filetype):\n",
    "    paths = []\n",
    "    for root, dirs, files in os.walk(filepath):\n",
    "        for file in files:\n",
    "            if file.lower().endswith(filetype.lower()):\n",
    "                paths.append(join(root, file))\n",
    "    return paths"
   ]
  },
  {
   "attachments": {},
   "cell_type": "markdown",
   "metadata": {},
   "source": [
    "Get calibrated organ images"
   ]
  },
  {
   "cell_type": "code",
   "execution_count": 6,
   "metadata": {},
   "outputs": [],
   "source": [
    "calibrated_dir = join(MESHES_AND_VOXELS_FOLDER, \"calibrated\")\n",
    "organs = {}\n",
    "\n",
    "for organ_file in listdir(calibrated_dir):\n",
    "    organ_name = organ_file.split(\".\")[0]\n",
    "    organs[organ_name] = nib.load(join(calibrated_dir, organ_file)).get_fdata()"
   ]
  },
  {
   "cell_type": "code",
   "execution_count": 7,
   "metadata": {},
   "outputs": [],
   "source": [
    "spect_files = list_files(IMAGE_FILES, \"ac.nii\")\n",
    "calculations = [[\"File name\", \"Stomach\", \"Liver\", \"Duodenum\", \"Jejunum\", \"Ileum\", \"Cecum\", \"Colon\", \"Rectum\"]]\n",
    "\n",
    "import csv\n",
    "\n",
    "for nii_path in spect_files:\n",
    "    img = nib.load(nii_path).get_fdata()\n",
    "    row = [nii_path.split(\"\\\\\")[-1].split(\"/\")[-1], 0., 0., 0., 0., 0., 0., 0., 0.]\n",
    "    for organ_name in organs:\n",
    "        organ = organs[organ_name]\n",
    "        contained_response = img[np.where(organ > 50)]\n",
    "        mean = np.mean(contained_response)\n",
    "        idx = calculations[0].index(organ_name)\n",
    "        row[idx] = mean\n",
    "    calculations.append(row)"
   ]
  },
  {
   "cell_type": "code",
   "execution_count": null,
   "metadata": {},
   "outputs": [],
   "source": [
    "with open(join(MESHES_AND_VOXELS_FOLDER, \"measurements.csv\"), \"w\") as f:\n",
    "    writer = csv.writer(f)\n",
    "    writer.writerows(calculations)"
   ]
  },
  {
   "cell_type": "markdown",
   "metadata": {},
   "source": [
    "End"
   ]
  }
 ],
 "metadata": {
  "kernelspec": {
   "display_name": "Python 3.8.10 ('venv': venv)",
   "language": "python",
   "name": "python3"
  },
  "language_info": {
   "codemirror_mode": {
    "name": "ipython",
    "version": 3
   },
   "file_extension": ".py",
   "mimetype": "text/x-python",
   "name": "python",
   "nbconvert_exporter": "python",
   "pygments_lexer": "ipython3",
   "version": "3.8.10"
  },
  "orig_nbformat": 4,
  "vscode": {
   "interpreter": {
    "hash": "1e7eaf7f2074ed0745cd35ed523795778bd8b2007be11aaeebcb667e4ce271a1"
   }
  }
 },
 "nbformat": 4,
 "nbformat_minor": 2
}
