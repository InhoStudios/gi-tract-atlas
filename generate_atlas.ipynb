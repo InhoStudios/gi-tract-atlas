{
 "cells": [
  {
   "cell_type": "code",
   "execution_count": 4,
   "metadata": {},
   "outputs": [],
   "source": [
    "import numpy as np\n",
    "from numpy.linalg import inv\n",
    "from skimage.measure import marching_cubes\n",
    "from scipy.ndimage import gaussian_filter, zoom\n",
    "from os.path import join\n",
    "from os import listdir\n",
    "import os\n",
    "import json\n",
    "import cv2\n",
    "\n",
    "import meshio\n",
    "import nibabel as nib\n",
    "from reg_utils import get_affine\n",
    "from pygff import GFF, save"
   ]
  },
  {
   "attachments": {},
   "cell_type": "markdown",
   "metadata": {},
   "source": [
    "Define file paths"
   ]
  },
  {
   "cell_type": "code",
   "execution_count": 19,
   "metadata": {},
   "outputs": [],
   "source": [
    "WORKDIR = os.getcwd()\n",
    "ANNOTATION_FOLDER = join(WORKDIR, \"assets\", \"annotations\")\n",
    "ATLAS_NIFTI = join(WORKDIR, \"atlas\", \"reference\", \"mouse_nii\", \"atlas.nii\")\n",
    "SAGITTAL_FOLDER = join(WORKDIR, \"assets\", \"sagittal\")\n",
    "DORSAL_FOLDER = join(WORKDIR, \"assets\", \"dorsal\")\n",
    "MESHES_AND_VOXELS_FOLDER = join(WORKDIR, \"data\")\n",
    "ATLAS_FOLDER = join(WORKDIR, \"atlas\")\n",
    "IMAGE_FILES = join(WORKDIR, \"assets\", \"images\", \"nii-images\")"
   ]
  },
  {
   "attachments": {},
   "cell_type": "markdown",
   "metadata": {},
   "source": [
    "Define some constants"
   ]
  },
  {
   "cell_type": "code",
   "execution_count": 6,
   "metadata": {},
   "outputs": [],
   "source": [
    "dorsal_height = 1980-168\n",
    "dorsal_width = 2480-1300\n",
    "dorsal_ratio = float(dorsal_height)/float(dorsal_width)\n",
    "sagittal_width = 2550-808\n",
    "sagittal_height = 1617-483\n",
    "sagittal_ratio = float(sagittal_width)/float(sagittal_height)\n",
    "\n",
    "z_height = sagittal_height"
   ]
  },
  {
   "cell_type": "markdown",
   "metadata": {},
   "source": [
    "Get Affine Matrix"
   ]
  },
  {
   "cell_type": "code",
   "execution_count": 23,
   "metadata": {},
   "outputs": [],
   "source": [
    "from reg_utils import get_affine\n",
    "\n",
    "AFFINE = get_affine()\n",
    "INV_AFFINE = inv(AFFINE)"
   ]
  },
  {
   "attachments": {},
   "cell_type": "markdown",
   "metadata": {},
   "source": [
    "Create list of images to interpolate between"
   ]
  },
  {
   "cell_type": "code",
   "execution_count": 5,
   "metadata": {},
   "outputs": [],
   "source": [
    "num_dorsal = len(listdir(DORSAL_FOLDER))\n",
    "num_sagittal = len(listdir(SAGITTAL_FOLDER))\n",
    "\n",
    "dorsal_depth = 590 / num_dorsal\n",
    "sagittal_depth = 590 / num_sagittal\n",
    "\n",
    "dorsal_images = [[]] * num_dorsal\n",
    "sagittal_images = [[]] * num_sagittal\n",
    "\n",
    "def get_index(filename):\n",
    "    return int(filename.replace(\"mouse\",\"\").replace(\".png\",\"\"))"
   ]
  },
  {
   "cell_type": "code",
   "execution_count": 6,
   "metadata": {},
   "outputs": [],
   "source": [
    "for image in listdir(SAGITTAL_FOLDER):\n",
    "    if (image.split('.')[1] != \"png\"):\n",
    "        continue\n",
    "    index = get_index(image)\n",
    "    im = cv2.imread(join(SAGITTAL_FOLDER, image))\n",
    "    im = cv2.cvtColor(im, cv2.COLOR_BGR2GRAY)\n",
    "\n",
    "    sagittal_im = im[483:1617, 808:2550]\n",
    "    height = dorsal_width\n",
    "    width = dorsal_height\n",
    "\n",
    "    sagittal_im = cv2.resize(sagittal_im, (width, height), interpolation=cv2.INTER_AREA)\n",
    "    sagittal_images[index] = sagittal_im"
   ]
  },
  {
   "attachments": {},
   "cell_type": "markdown",
   "metadata": {},
   "source": [
    "Create volume and fill with images"
   ]
  },
  {
   "cell_type": "code",
   "execution_count": 43,
   "metadata": {},
   "outputs": [],
   "source": [
    "output_nifti = np.zeros((dorsal_width, dorsal_width, dorsal_height), dtype=np.uint8)\n",
    "\n",
    "for z in range (272, 862):\n",
    "    i = z - 272\n",
    "    try:\n",
    "        index = float(i) / sagittal_depth\n",
    "        ind0 = int(np.floor(index))\n",
    "        if (ind0 < 0):\n",
    "            continue\n",
    "        if (ind0 + 1 >= num_sagittal):\n",
    "            break\n",
    "        img0 = np.array(sagittal_images[ind0]).astype(float)\n",
    "        img1 = np.array(sagittal_images[ind0 + 1]).astype(float)\n",
    "        alpha = (float (i % int(np.round(sagittal_depth)))) / sagittal_depth\n",
    "        additiveImg = np.add(img0 * (1.0 - alpha), img1 * alpha).astype(np.uint8)\n",
    "        output_nifti[z] = additiveImg\n",
    "    except:\n",
    "        pass"
   ]
  },
  {
   "attachments": {},
   "cell_type": "markdown",
   "metadata": {},
   "source": [
    "Flip image along Z axis"
   ]
  },
  {
   "cell_type": "code",
   "execution_count": 44,
   "metadata": {},
   "outputs": [],
   "source": [
    "output_nifti = output_nifti[::, ::, ::-1]"
   ]
  },
  {
   "attachments": {},
   "cell_type": "markdown",
   "metadata": {},
   "source": [
    "Check data type"
   ]
  },
  {
   "cell_type": "code",
   "execution_count": 45,
   "metadata": {},
   "outputs": [
    {
     "name": "stdout",
     "output_type": "stream",
     "text": [
      "uint8\n"
     ]
    }
   ],
   "source": [
    "print(output_nifti.dtype)"
   ]
  },
  {
   "attachments": {},
   "cell_type": "markdown",
   "metadata": {},
   "source": [
    "Save nifti image"
   ]
  },
  {
   "cell_type": "code",
   "execution_count": 46,
   "metadata": {},
   "outputs": [],
   "source": [
    "affine = get_affine()\n",
    "\n",
    "nifti_img = nib.Nifti1Image(output_nifti, affine=affine)\n",
    "nib.save(nifti_img, \"./atlas/reference/mouse_nii/atlas.nii\")"
   ]
  },
  {
   "attachments": {},
   "cell_type": "markdown",
   "metadata": {},
   "source": [
    "Define Organ Class"
   ]
  },
  {
   "cell_type": "code",
   "execution_count": 15,
   "metadata": {},
   "outputs": [],
   "source": [
    "class Organ:\n",
    "    def __init__(self, name, numSlices, depth, dims, affine, volume, label) -> None:\n",
    "        self.name = name\n",
    "        self.numSlices = numSlices\n",
    "        self.slices = [[]] * numSlices\n",
    "        self.scale = 1.0\n",
    "        self.depth = depth * self.scale\n",
    "        self.affine = affine\n",
    "        # offset: [offset_x, offset_y, offset_z]\n",
    "        self.offset = {\n",
    "            \"x\": 252, # 124, # OFFSET_X - 36 * 6, # 424.2\n",
    "            \"y\": 173, # 45, # OFFSET_Y - 80 * 6, # 33\n",
    "            \"z\": 385 # 50 # 65\n",
    "        }\n",
    "        imgSliceDims = (numSlices, dims[1], dims[2])\n",
    "        self.imageSlices: np.ndarray = np.zeros(imgSliceDims, dtype=np.uint8)\n",
    "        self.voxelCloud: np.ndarray = np.zeros(volume.shape, dtype=np.uint8)\n",
    "        self.volume = volume\n",
    "        self.label = label\n",
    "    \n",
    "    def appendOrganSlice(self, index, entity):\n",
    "        for polygon in entity[\"annotationBlocks\"][0][\"annotations\"]:\n",
    "            polyPts = np.array(polygon[\"segments\"][0].copy()).astype(int)\n",
    "            for i, pt in enumerate(polyPts):\n",
    "                polyPts[i] = [(self.scale * pt[1]) - self.offset['y'], (self.scale * pt[0]) - self.offset['x']]\n",
    "            self.slices[index].append(polyPts)\n",
    "            cv2.fillPoly(self.imageSlices[index], pts=[polyPts], color=(255, 255, 255))\n",
    "\n",
    "    def constructVoxelMap(self, save=False):\n",
    "        for z in range(self.voxelCloud.shape[0]):\n",
    "            # i: voxel layer\n",
    "            i = z - self.offset['z']\n",
    "            index = float(i) / self.depth\n",
    "            ind0 = int(np.floor(index))\n",
    "            if (ind0 < 0):\n",
    "                continue\n",
    "            if (ind0 + 1 >= len(self.imageSlices)):\n",
    "                break\n",
    "            img0 = self.imageSlices[ind0]\n",
    "            img1 = self.imageSlices[ind0 + 1]\n",
    "            alpha = (float(i % int(np.round(self.depth)) ) ) / (self.depth)\n",
    "            additiveImage = np.add(img0 *  (1.0 - alpha), img1 * alpha)\n",
    "            self.voxelCloud[z][np.where(additiveImage > 100)] = 255\n",
    "        \n",
    "        self.customCalibration()\n",
    "        # self.generateMesh(save)\n",
    "\n",
    "        if (save):\n",
    "            # img = nib.Nifti1Image(self.voxelCloud, self.affine)\n",
    "            # nib.save(img, f\"./exports/{self.name}.nii\")\n",
    "            # print(f\"Saved {self.name} image at ./exports/{self.name}.nii\")\n",
    "            del self.imageSlices\n",
    "            del self.slices\n",
    "    \n",
    "    def customCalibration(self):\n",
    "        # self.voxelCloud = np.swapaxes(self.voxelCloud, 0, 1)\n",
    "        # self.voxelCloud = self.voxelCloud[::-1,::-1,::-1]\n",
    "\n",
    "        # smooth between slices\n",
    "        self.voxelCloud = gaussian_filter(self.voxelCloud, 7).astype(np.uint8)\n",
    "        self.volume[np.where(self.voxelCloud > 100)] = self.label\n",
    "        \n",
    "    def generateMesh(self, save=False):\n",
    "        threshold = 50\n",
    "        step_size = 3\n",
    "        print(\"Getting mesh\")\n",
    "        vertices, faces, _, _ = marching_cubes(self.voxelCloud, level=threshold, step_size=step_size)\n",
    "        self.vertices = vertices\n",
    "        self.faces = faces\n",
    "        if (save):\n",
    "            self.saveMesh()\n",
    "\n",
    "    def getMesh(self):\n",
    "        return self.vertices, self.faces\n",
    "\n",
    "    def saveMesh(self):\n",
    "        mesh = meshio.Mesh(self.vertices, {\"triangle\": self.faces})\n",
    "        meshio.write(f\"./exports/{self.name}.obj\", mesh, file_format=\"obj\")\n"
   ]
  },
  {
   "attachments": {},
   "cell_type": "markdown",
   "metadata": {},
   "source": [
    "Define Atlas Class"
   ]
  },
  {
   "cell_type": "code",
   "execution_count": 22,
   "metadata": {},
   "outputs": [],
   "source": [
    "class_dict = {\n",
    "    \"Stomach\": {\n",
    "        \"index\": 1,\n",
    "        \"color\": (255, 0, 0, 255)\n",
    "    },\n",
    "    \"Ileum\": {\n",
    "        \"index\": 2,\n",
    "        \"color\": (0, 255, 0, 255)\n",
    "    },\n",
    "    \"Jejunum\": {\n",
    "        \"index\": 3,\n",
    "        \"color\": (0, 0, 255, 255)\n",
    "    },\n",
    "    \"Liver\": {\n",
    "        \"index\": 4,\n",
    "        \"color\": (255, 255, 0, 255)\n",
    "    },\n",
    "    \"Duodenum\": {\n",
    "        \"index\": 5,\n",
    "        \"color\": (255, 0, 255, 255)\n",
    "    },\n",
    "    \"Colon\": {\n",
    "        \"index\": 6,\n",
    "        \"color\": (0, 255, 255, 255)\n",
    "    },\n",
    "    \"Cecum\": {\n",
    "        \"index\": 7,\n",
    "        \"color\": (128, 255, 255, 255)\n",
    "    },\n",
    "    \"Rectum\": {\n",
    "        \"index\": 8,\n",
    "        \"color\": (255, 128, 255, 255)\n",
    "    },\n",
    "}"
   ]
  },
  {
   "cell_type": "code",
   "execution_count": 24,
   "metadata": {},
   "outputs": [],
   "source": [
    "class Atlas:\n",
    "    def __init__(self, annotationDirectory, calibrationAnnotation, save=False) -> None:\n",
    "        # TODO: Get directory length\n",
    "        self.calibration: float = None\n",
    "        self.xOffset: int = None\n",
    "        self.yOffset: int = None\n",
    "        self.zOffset: int = None\n",
    "\n",
    "        self.atlasDims: tuple = None\n",
    "        self.segmentation: np.ndarray = None\n",
    "        self.affine = None\n",
    "\n",
    "        self.organs = {}\n",
    "\n",
    "        self.annotationDirectory = annotationDirectory\n",
    "\n",
    "        self.save = save\n",
    "\n",
    "        # ct = nib.load(\"./assets/images/sample/CT_TS_HEUHR_In111_free_M1039_0h_220721-selfcal.nii\")\n",
    "        ct = nib.load(join(\"atlas\", \"reference\", \"mouse_nii\", \"atlas.nii\"))\n",
    "\n",
    "        annFiles = listdir(annotationDirectory)\n",
    "        numSlices = 0\n",
    "        for file in annFiles:\n",
    "            annList = json.load(open(join(self.annotationDirectory, file)))\n",
    "            numSlices += len(annList)\n",
    "\n",
    "        self.calibrateDepth(calibrationAnnotation, numSlices)\n",
    "        self.calibrateImgSize(ct)\n",
    "        self.constructAtlasFromList(annFiles, numSlices)\n",
    "        self.constructImgVoxels(save=save)\n",
    "        self.finalizeSegmentation()\n",
    "\n",
    "    def constructAtlasFromList(self, fileList, numSlices):\n",
    "        if (self.calibration == None):\n",
    "            print(\"Requires calibration\")\n",
    "            return\n",
    "        # get number of slices\n",
    "        labels = {}\n",
    "        next_label = 1\n",
    "        for file in fileList:\n",
    "            path = join(self.annotationDirectory, file)\n",
    "            if (path == self.calibrationFile):\n",
    "                print(\"Calibration file. Skipping...\")\n",
    "                continue\n",
    "            print(f\"Reading file {file}\")\n",
    "            annotationList = json.load(open(path))\n",
    "            for annotation in annotationList:\n",
    "                fname = annotation[\"documents\"][0][\"name\"]\n",
    "                index = int(fname.split('.')[0].replace(\"rat\",\"\"))\n",
    "                try:\n",
    "                    for entity in annotation[\"annotation\"][\"annotationGroups\"][0][\"annotationEntities\"]:\n",
    "                        name = entity[\"name\"]\n",
    "                        try:\n",
    "                            label = labels[name]\n",
    "                        except(KeyError):\n",
    "                            labels[name] = next_label\n",
    "                            label = next_label\n",
    "                            next_label += 1\n",
    "                            print(label)\n",
    "                        try:\n",
    "                            organ = self.organs[name]\n",
    "                        except(KeyError):\n",
    "                            organ = Organ(name, \n",
    "                                            numSlices, \n",
    "                                            self.calibration, \n",
    "                                            self.atlasDims,\n",
    "                                            self.affine,\n",
    "                                            self.segmentation,\n",
    "                                            label)\n",
    "                            self.organs[name] = organ\n",
    "                        organ.appendOrganSlice(index, entity)\n",
    "                except:\n",
    "                    print(annotation)\n",
    "    \n",
    "    def finalizeSegmentation(self):\n",
    "        self.segmentation = np.swapaxes(self.segmentation, 0, 1)\n",
    "        self.segmentation = self.segmentation[::-1,::-1,::-1]\n",
    "        img = nib.Nifti1Image(self.segmentation, self.affine)\n",
    "        nib.save(img, f\"./exports/segmentation.nii\")\n",
    "        # save(\"./exports/segmentation.gff\", self.segmentation)\n",
    "        if (save):\n",
    "            atlas_segff = GFF(self.segmentation)\n",
    "            atlas_segff.info.set_class_dict(class_dict)\n",
    "            atlas_segff.info.affine = AFFINE\n",
    "            save(join(ATLAS_FOLDER, \"reference\", \"full_res_organ_nii\", \"segmentation.segff\"), atlas_segff)\n",
    "\n",
    "    def calibrateDepth(self, calibrationAnnotation, numSlices):\n",
    "        f = open(calibrationAnnotation)\n",
    "        annotation = json.load(f)[0]\n",
    "        body = annotation[\"annotation\"][\"annotationGroups\"][0][\"annotationEntities\"][0]\n",
    "        domain = []\n",
    "        for point in body[\"annotationBlocks\"][0][\"annotations\"][0][\"segments\"][0]:\n",
    "            domain.append(point[1])\n",
    "        minZ = min(domain)\n",
    "        maxZ = max(domain)\n",
    "        diff = maxZ - minZ\n",
    "        self.calibration = 1.0 * float(diff) / float(numSlices)\n",
    "        self.calibrationFile = calibrationAnnotation\n",
    "        return self.calibration\n",
    "    \n",
    "    def calibrateImgSize(self, inputNifti):\n",
    "        \"\"\"\n",
    "        Parameters:\n",
    "            inputNifti: nibabel.nifti1.Nifti1Image\n",
    "        \"\"\"\n",
    "        # TODO: use nifi image size to calibrate canvas size for voxelclouds\n",
    "        shape = inputNifti.get_fdata().shape\n",
    "        self.atlasDims = shape\n",
    "        self.segmentation = np.zeros(shape, dtype=np.uint8)\n",
    "        self.affine = get_affine() #inputNifti.affine\n",
    "        print(self.affine, type(self.affine))\n",
    "        pass\n",
    "\n",
    "    def constructImgVoxels(self, save=False):\n",
    "        for organName in self.organs:\n",
    "            organ = None\n",
    "            try:\n",
    "                organ = self.organs[organName]\n",
    "            except:\n",
    "                continue\n",
    "            if (organ != None):\n",
    "                print(f\"Constructing voxel map for {organName} with label {organ.label}\")\n",
    "                organ.constructVoxelMap(save)\n",
    "                print(np.where(self.segmentation == organ.label))\n",
    "                print(\"Done\")\n",
    "\n"
   ]
  },
  {
   "attachments": {},
   "cell_type": "markdown",
   "metadata": {},
   "source": [
    "Create organ atlas"
   ]
  },
  {
   "cell_type": "code",
   "execution_count": 25,
   "metadata": {},
   "outputs": [
    {
     "name": "stdout",
     "output_type": "stream",
     "text": [
      "[[ 0.16952001  0.          0.         21.58835983]\n",
      " [ 0.          0.16952001  0.         21.69745827]\n",
      " [ 0.          0.          0.168538   95.23029327]\n",
      " [ 0.          0.          0.          1.        ]] <class 'numpy.ndarray'>\n",
      "Calibration file. Skipping...\n",
      "Reading file fixed_annotations.json\n",
      "1\n",
      "2\n",
      "3\n",
      "4\n",
      "5\n",
      "6\n",
      "7\n",
      "8\n",
      "Constructing voxel map for Stomach with label 1\n",
      "(array([397, 397, 397, ..., 743, 743, 743], dtype=int64), array([629, 630, 630, ..., 720, 720, 720], dtype=int64), array([1020, 1020, 1021, ...,  892,  893,  894], dtype=int64))\n",
      "Done\n",
      "Constructing voxel map for Ileum with label 2\n",
      "(array([403, 403, 403, ..., 577, 577, 577], dtype=int64), array([729, 729, 729, ..., 790, 790, 790], dtype=int64), array([1126, 1127, 1128, ..., 1151, 1152, 1153], dtype=int64))\n",
      "Done\n",
      "Constructing voxel map for Jejunum with label 3\n",
      "(array([391, 391, 391, ..., 751, 751, 751], dtype=int64), array([585, 585, 585, ..., 414, 414, 414], dtype=int64), array([1099, 1100, 1101, ..., 1101, 1102, 1103], dtype=int64))\n",
      "Done\n",
      "Constructing voxel map for Liver with label 4\n",
      "(array([404, 404, 404, ..., 737, 737, 737], dtype=int64), array([658, 658, 658, ..., 575, 575, 575], dtype=int64), array([949, 950, 951, ..., 896, 897, 898], dtype=int64))\n",
      "Done\n",
      "Constructing voxel map for Duodenum with label 5\n",
      "(array([473, 473, 473, ..., 660, 660, 660], dtype=int64), array([497, 497, 497, ..., 490, 490, 491], dtype=int64), array([ 956,  957,  958, ..., 1154, 1155, 1153], dtype=int64))\n",
      "Done\n",
      "Constructing voxel map for Colon with label 6\n",
      "(array([486, 486, 486, ..., 736, 736, 736], dtype=int64), array([721, 721, 721, ..., 838, 838, 838], dtype=int64), array([1266, 1267, 1268, ..., 1216, 1217, 1218], dtype=int64))\n",
      "Done\n",
      "Constructing voxel map for Cecum with label 7\n",
      "(array([523, 523, 523, ..., 693, 693, 693], dtype=int64), array([688, 688, 688, ..., 831, 831, 831], dtype=int64), array([1131, 1132, 1133, ...,  941,  942,  943], dtype=int64))\n",
      "Done\n",
      "Constructing voxel map for Rectum with label 8\n",
      "(array([612, 612, 612, ..., 693, 693, 693], dtype=int64), array([618, 618, 618, ..., 622, 622, 622], dtype=int64), array([1330, 1331, 1332, ..., 1431, 1432, 1433], dtype=int64))\n",
      "Done\n"
     ]
    }
   ],
   "source": [
    "atlas = Atlas(ANNOTATION_FOLDER, join(ANNOTATION_FOLDER, \"calibrate.json\"), save=True)"
   ]
  },
  {
   "cell_type": "code",
   "execution_count": 13,
   "metadata": {},
   "outputs": [],
   "source": [
    "def rescale_nifti(nifti_file, scale):\n",
    "    image = nib.load(nifti_file)\n",
    "    image_data = image.get_fdata()\n",
    "    rescaled_data = zoom(image_data, scale, order=1)\n",
    "    rescaled_image = nib.Nifti1Image(rescaled_data, AFFINE)\n",
    "    del image\n",
    "    del image_data\n",
    "    return rescaled_image\n",
    "\n",
    "SCALE_FACTOR = 0.3"
   ]
  },
  {
   "cell_type": "code",
   "execution_count": 10,
   "metadata": {},
   "outputs": [],
   "source": [
    "rescaled_image = rescale_nifti(ATLAS_NIFTI, SCALE_FACTOR)\n",
    "nib.save(rescaled_image, \"./atlas/reference/mouse_nii/scaled_atlas.nii\")\n"
   ]
  },
  {
   "cell_type": "code",
   "execution_count": 18,
   "metadata": {},
   "outputs": [
    {
     "name": "stdout",
     "output_type": "stream",
     "text": [
      "--- self.info --- \n",
      "Meta: {'Project info': {'ClassColors': '0 0 0 255|0 0 255 255|0 255 0 255|255 0 0 255|0 255 255 255|255 0 255 255|255 255 0 255|255 255 128 255|255 128 255 255', 'ClassIndices': '0|1|2|3|4|5|6|7|8', 'ClassNames': 'unclassified|Stomach|Ileum|Jejunum|Liver|Duodenum|Colon|Cecum|Rectum'}}\n",
      "Affine: [[ 0.16952001  0.          0.         21.58835983]\n",
      " [ 0.          0.16952001  0.         21.69745827]\n",
      " [ 0.          0.          0.168538   95.23029327]\n",
      " [ 0.          0.          0.          1.        ]]\n",
      "Voxel sizes: [1. 1. 1.]\n",
      "Intensity scale: 1.0\n",
      "Intensity offset: 0.0\n",
      "Timepoints: Equidistant: True\n",
      "Centers: [0]\n",
      "Widths: [0]\n",
      "Channels: Equidistant: True\n",
      "Centers: [0]\n",
      "Widths: [0]\n",
      "\n"
     ]
    }
   ],
   "source": [
    "FLIPPED = join(WORKDIR, \"exports\")\n",
    "for file in listdir(FLIPPED):\n",
    "    scaled = join(FLIPPED, \"scaled\")\n",
    "    os.makedirs(scaled, exist_ok=True)\n",
    "    if (file.endswith(\".nii\")):\n",
    "        rescaled_image = rescale_nifti(join(FLIPPED, file), SCALE_FACTOR)\n",
    "        nib.save(rescaled_image, join(scaled, f\"scaled_{file}\"))\n",
    "        segff = GFF(rescaled_image.get_fdata().astype(np.uint8))\n",
    "        segff.info.set_class_dict(class_dict)\n",
    "        segff.info.affine = AFFINE\n",
    "        print(segff.info)\n",
    "        save(join(scaled, f\"scaled_segmentation.segff\"),segff)"
   ]
  },
  {
   "cell_type": "code",
   "execution_count": null,
   "metadata": {},
   "outputs": [],
   "source": []
  }
 ],
 "metadata": {
  "kernelspec": {
   "display_name": "Python 3",
   "language": "python",
   "name": "python3"
  },
  "language_info": {
   "codemirror_mode": {
    "name": "ipython",
    "version": 3
   },
   "file_extension": ".py",
   "mimetype": "text/x-python",
   "name": "python",
   "nbconvert_exporter": "python",
   "pygments_lexer": "ipython3",
   "version": "3.10.11"
  },
  "orig_nbformat": 4
 },
 "nbformat": 4,
 "nbformat_minor": 2
}
