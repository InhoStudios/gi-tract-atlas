{
 "cells": [
  {
   "cell_type": "code",
   "execution_count": 1,
   "metadata": {},
   "outputs": [],
   "source": [
    "import numpy as np\n",
    "from skimage.measure import marching_cubes\n",
    "from scipy.ndimage import gaussian_filter\n",
    "from os.path import join\n",
    "from os import listdir\n",
    "import json\n",
    "import cv2\n",
    "\n",
    "import meshio\n",
    "import nibabel as nib"
   ]
  },
  {
   "attachments": {},
   "cell_type": "markdown",
   "metadata": {},
   "source": [
    "Define Atlas class"
   ]
  },
  {
   "cell_type": "code",
   "execution_count": 2,
   "metadata": {},
   "outputs": [],
   "source": [
    "\n",
    "class Atlas:\n",
    "    def __init__(self, annotationDirectory, calibrationAnnotation, save=False) -> None:\n",
    "        # TODO: Get directory length\n",
    "        self.calibration: float = None\n",
    "        self.xOffset: int = None\n",
    "        self.yOffset: int = None\n",
    "        self.zOffset: int = None\n",
    "\n",
    "        self.atlasDims: tuple = None\n",
    "        self.affine = None\n",
    "\n",
    "        self.organs = {}\n",
    "\n",
    "        self.annotationDirectory = annotationDirectory\n",
    "\n",
    "        ct = nib.load(\"./assets/images/sample/CT_TS_HEUHR_In111_free_M1039_0h_220721-selfcal.nii\")\n",
    "        ct = nib.load(join(\"assets\", \"images\", \"sagittal_mouse.nii\"))\n",
    "\n",
    "        annFiles = listdir(annotationDirectory)\n",
    "        numSlices = 0\n",
    "        for file in annFiles:\n",
    "            annList = json.load(open(join(self.annotationDirectory, file)))\n",
    "            numSlices += len(annList)\n",
    "\n",
    "        self.calibrateDepth(calibrationAnnotation, numSlices)\n",
    "        self.calibrateImgSize(ct)\n",
    "        self.constructAtlasFromList(annFiles, numSlices)\n",
    "        self.constructImgVoxels(save=save)\n",
    "\n",
    "    def constructAtlasFromList(self, fileList, numSlices):\n",
    "        if (self.calibration == None):\n",
    "            print(\"Requires calibration\")\n",
    "            return\n",
    "        # get number of slices\n",
    "        for file in fileList:\n",
    "            path = join(self.annotationDirectory, file)\n",
    "            if (path == self.calibrationFile):\n",
    "                print(\"Calibration file. Skipping...\")\n",
    "                continue\n",
    "            print(f\"Reading file {file}\")\n",
    "            annotationList = json.load(open(path))\n",
    "            for annotation in annotationList:\n",
    "                fname = annotation[\"documents\"][0][\"name\"]\n",
    "                index = int(fname.split('.')[0].replace(\"rat\",\"\"))\n",
    "                try:\n",
    "                    for entity in annotation[\"annotation\"][\"annotationGroups\"][0][\"annotationEntities\"]:\n",
    "                        name = entity[\"name\"]\n",
    "                        try:\n",
    "                            organ = self.organs[name]\n",
    "                        except(KeyError):\n",
    "                            organ = Organ(name, \n",
    "                                            numSlices, \n",
    "                                            self.calibration, \n",
    "                                            self.atlasDims,\n",
    "                                            self.affine)\n",
    "                            self.organs[name] = organ\n",
    "                        organ.appendOrganSlice(index, entity)\n",
    "                except:\n",
    "                    print(annotation)\n",
    "\n",
    "    def calibrateDepth(self, calibrationAnnotation, numSlices):\n",
    "        f = open(calibrationAnnotation)\n",
    "        annotation = json.load(f)[0]\n",
    "        body = annotation[\"annotation\"][\"annotationGroups\"][0][\"annotationEntities\"][0]\n",
    "        domain = []\n",
    "        for point in body[\"annotationBlocks\"][0][\"annotations\"][0][\"segments\"][0]:\n",
    "            domain.append(point[1])\n",
    "        minZ = min(domain)\n",
    "        maxZ = max(domain)\n",
    "        diff = maxZ - minZ\n",
    "        self.calibration = 1.0 * float(diff) / float(numSlices)\n",
    "        self.calibrationFile = calibrationAnnotation\n",
    "        return self.calibration\n",
    "    \n",
    "    def calibrateImgSize(self, inputNifti):\n",
    "        \"\"\"\n",
    "        Parameters:\n",
    "            inputNifti: nibabel.nifti1.Nifti1Image\n",
    "        \"\"\"\n",
    "        # TODO: use nifi image size to calibrate canvas size for voxelclouds\n",
    "        shape = inputNifti.get_fdata().shape\n",
    "        self.atlasDims = shape\n",
    "        self.affine = inputNifti.affine\n",
    "        print(self.affine, type(self.affine))\n",
    "        pass\n",
    "\n",
    "    def constructImgVoxels(self, save=False):\n",
    "        for organName in self.organs:\n",
    "            organ = None\n",
    "            try:\n",
    "                organ = self.organs[organName]\n",
    "            except:\n",
    "                continue\n",
    "            if (organ != None):\n",
    "                print(f\"Constructing voxel map for {organName}\")\n",
    "                organ.constructVoxelMap(save)\n",
    "                print(\"Done\")\n",
    "\n"
   ]
  },
  {
   "attachments": {},
   "cell_type": "markdown",
   "metadata": {},
   "source": [
    "Define Organ class"
   ]
  },
  {
   "cell_type": "code",
   "execution_count": 15,
   "metadata": {},
   "outputs": [],
   "source": [
    "\n",
    "class Organ:\n",
    "    def __init__(self, name, numSlices, depth, dims, affine) -> None:\n",
    "        self.name = name\n",
    "        self.numSlices = numSlices\n",
    "        self.slices = [[]] * numSlices\n",
    "        self.scale = 1.0\n",
    "        self.depth = depth * self.scale\n",
    "        self.affine = affine\n",
    "        # offset: [offset_x, offset_y, offset_z]\n",
    "        self.offset = {\n",
    "            \"x\": 250, # 124, # OFFSET_X - 36 * 6, # 424.2\n",
    "            \"y\": 173, # 45, # OFFSET_Y - 80 * 6, # 33\n",
    "            \"z\": 385 # 50 # 65\n",
    "        }\n",
    "        imgSliceDims = (numSlices, dims[1], dims[2])\n",
    "        self.imageSlices: np.ndarray = np.zeros(imgSliceDims, dtype=np.uint8)\n",
    "        self.voxelCloud: np.ndarray = np.zeros(dims, dtype=np.uint8)\n",
    "    \n",
    "    def appendOrganSlice(self, index, entity):\n",
    "        for polygon in entity[\"annotationBlocks\"][0][\"annotations\"]:\n",
    "            polyPts = np.array(polygon[\"segments\"][0].copy()).astype(int)\n",
    "            for i, pt in enumerate(polyPts):\n",
    "                polyPts[i] = [(self.scale * pt[1]) - self.offset['y'], (self.scale * pt[0]) - self.offset['x']]\n",
    "            self.slices[index].append(polyPts)\n",
    "            cv2.fillPoly(self.imageSlices[index], pts=[polyPts], color=(255, 255, 255))\n",
    "\n",
    "    def constructVoxelMap(self, save=False):\n",
    "        for z in range(self.voxelCloud.shape[0]):\n",
    "            # i: voxel layer\n",
    "            i = z - self.offset['z']\n",
    "            index = float(i) / self.depth\n",
    "            ind0 = int(np.floor(index))\n",
    "            if (ind0 < 0):\n",
    "                continue\n",
    "            if (ind0 + 1 >= len(self.imageSlices)):\n",
    "                break\n",
    "            img0 = self.imageSlices[ind0]\n",
    "            img1 = self.imageSlices[ind0 + 1]\n",
    "            img0 = cv2.GaussianBlur(img0, (17, 17), cv2.BORDER_DEFAULT)\n",
    "            img1 = cv2.GaussianBlur(img1, (17, 17), cv2.BORDER_DEFAULT)\n",
    "            alpha = (float(i % int(np.round(self.depth)) ) ) / (self.depth)\n",
    "            additiveImage = np.add(img0 *  (1.0 - alpha), img1 * alpha)\n",
    "            self.voxelCloud[z] = additiveImage # [np.where(additiveImage > 196)] = 255\n",
    "        \n",
    "        self.customCalibration()\n",
    "        self.generateMesh(save)\n",
    "\n",
    "        if (save):\n",
    "            img = nib.Nifti1Image(self.voxelCloud, self.affine)\n",
    "            nib.save(img, f\"./exports/{self.name}.nii\")\n",
    "            print(f\"Saved {self.name} image at ./exports/{self.name}.nii\")\n",
    "            del self.imageSlices\n",
    "            del self.slices\n",
    "            del self.voxelCloud\n",
    "    \n",
    "    def customCalibration(self):\n",
    "        self.voxelCloud = np.swapaxes(self.voxelCloud, 0, 1)\n",
    "        self.voxelCloud = self.voxelCloud[::-1,::-1,::-1]\n",
    "\n",
    "        # smooth between slices\n",
    "        self.voxelCloud = gaussian_filter(self.voxelCloud, 15)\n",
    "        self.voxelCloud[np.where(self.voxelCloud > 100)] = np.uint8(255)\n",
    "        self.voxelCloud[np.where(self.voxelCloud <= 100)] = np.uint8(0)\n",
    "        \n",
    "    def generateMesh(self, save=False):\n",
    "        threshold = 50\n",
    "        step_size = 3\n",
    "        print(\"Getting mesh\")\n",
    "        vertices, faces, _, _ = marching_cubes(self.voxelCloud, level=threshold, step_size=step_size)\n",
    "        self.vertices = vertices\n",
    "        self.faces = faces\n",
    "        if (save):\n",
    "            self.saveMesh()\n",
    "\n",
    "    def getMesh(self):\n",
    "        return self.vertices, self.faces\n",
    "\n",
    "    def saveMesh(self):\n",
    "        mesh = meshio.Mesh(self.vertices, {\"triangle\": self.faces})\n",
    "        meshio.write(f\"./exports/{self.name}.obj\", mesh, file_format=\"obj\")\n"
   ]
  },
  {
   "attachments": {},
   "cell_type": "markdown",
   "metadata": {},
   "source": [
    "Define file path for sagittal view images"
   ]
  },
  {
   "cell_type": "code",
   "execution_count": 13,
   "metadata": {},
   "outputs": [],
   "source": [
    "SAGITTAL_FOLDER = \"./assets/sagittal/\"\n",
    "DORSAL_FOLDER = \"./assets/dorsal/\""
   ]
  },
  {
   "attachments": {},
   "cell_type": "markdown",
   "metadata": {},
   "source": [
    "Define some constants"
   ]
  },
  {
   "cell_type": "code",
   "execution_count": 5,
   "metadata": {},
   "outputs": [],
   "source": [
    "dorsal_height = 1980-168\n",
    "dorsal_width = 2480-1300\n",
    "dorsal_ratio = float(dorsal_height)/float(dorsal_width)\n",
    "sagittal_width = 2550-808\n",
    "sagittal_height = 1617-483\n",
    "sagittal_ratio = float(sagittal_width)/float(sagittal_height)\n",
    "\n",
    "z_height = sagittal_height"
   ]
  },
  {
   "attachments": {},
   "cell_type": "markdown",
   "metadata": {},
   "source": [
    "Create list of images to interpolate between"
   ]
  },
  {
   "cell_type": "code",
   "execution_count": 6,
   "metadata": {},
   "outputs": [],
   "source": [
    "num_dorsal = len(listdir(DORSAL_FOLDER))\n",
    "num_sagittal = len(listdir(SAGITTAL_FOLDER))\n",
    "\n",
    "dorsal_depth = 590 / num_dorsal\n",
    "sagittal_depth = 590 / num_sagittal\n",
    "\n",
    "dorsal_images = [[]] * num_dorsal\n",
    "sagittal_images = [[]] * num_sagittal\n",
    "\n",
    "def get_index(filename):\n",
    "    return int(filename.replace(\"mouse\",\"\").replace(\".png\",\"\"))"
   ]
  },
  {
   "cell_type": "code",
   "execution_count": 7,
   "metadata": {},
   "outputs": [],
   "source": [
    "for image in listdir(SAGITTAL_FOLDER):\n",
    "    if (image.split('.')[1] != \"png\"):\n",
    "        continue\n",
    "    index = get_index(image)\n",
    "    im = cv2.imread(join(SAGITTAL_FOLDER, image))\n",
    "    im = cv2.cvtColor(im, cv2.COLOR_BGR2GRAY)\n",
    "\n",
    "    sagittal_im = im[483:1617, 808:2550]\n",
    "    height = dorsal_width\n",
    "    width = dorsal_height\n",
    "\n",
    "    sagittal_im = cv2.resize(sagittal_im, (width, height), interpolation=cv2.INTER_AREA)\n",
    "    sagittal_images[index] = sagittal_im"
   ]
  },
  {
   "attachments": {},
   "cell_type": "markdown",
   "metadata": {},
   "source": [
    "Create volume and fill with images"
   ]
  },
  {
   "cell_type": "code",
   "execution_count": 8,
   "metadata": {},
   "outputs": [],
   "source": [
    "output_nifti = np.zeros((dorsal_width, dorsal_width, dorsal_height), dtype=np.uint8)\n",
    "\n",
    "for z in range (272, 862):\n",
    "    i = z - 272\n",
    "    try:\n",
    "        index = float(i) / sagittal_depth\n",
    "        ind0 = int(np.floor(index))\n",
    "        if (ind0 < 0):\n",
    "            continue\n",
    "        if (ind0 + 1 >= num_sagittal):\n",
    "            break\n",
    "        img0 = np.array(sagittal_images[ind0]).astype(float)\n",
    "        img1 = np.array(sagittal_images[ind0 + 1]).astype(float)\n",
    "        alpha = (float (i % int(np.round(sagittal_depth)))) / sagittal_depth\n",
    "        additiveImg = np.add(img0 * (1.0 - alpha), img1 * alpha).astype(np.uint8)\n",
    "        output_nifti[z] = additiveImg\n",
    "    except:\n",
    "        pass"
   ]
  },
  {
   "attachments": {},
   "cell_type": "markdown",
   "metadata": {},
   "source": [
    "Flip image along Z axis"
   ]
  },
  {
   "cell_type": "code",
   "execution_count": 10,
   "metadata": {},
   "outputs": [],
   "source": [
    "output_nifti = output_nifti[::, ::, ::-1]"
   ]
  },
  {
   "attachments": {},
   "cell_type": "markdown",
   "metadata": {},
   "source": [
    "Save nifti image"
   ]
  },
  {
   "cell_type": "code",
   "execution_count": 11,
   "metadata": {},
   "outputs": [],
   "source": [
    "from reg_utils import get_affine\n",
    "\n",
    "affine = get_affine()\n",
    "\n",
    "nifti_img = nib.Nifti1Image(output_nifti, affine=affine)\n",
    "nib.save(nifti_img, \"./atlas/reference/mouse_nii/atlas.nii\")"
   ]
  },
  {
   "attachments": {},
   "cell_type": "markdown",
   "metadata": {},
   "source": [
    "Create organ atlas"
   ]
  },
  {
   "cell_type": "code",
   "execution_count": 16,
   "metadata": {},
   "outputs": [
    {
     "name": "stdout",
     "output_type": "stream",
     "text": [
      "[[ 0.16952001  0.          0.         21.58835983]\n",
      " [ 0.          0.16952001  0.         21.69745827]\n",
      " [ 0.          0.          0.168538   95.23029327]\n",
      " [ 0.          0.          0.          1.        ]] <class 'numpy.ndarray'>\n",
      "Calibration file. Skipping...\n",
      "Reading file annotations.json\n",
      "Constructing voxel map for Stomach\n"
     ]
    },
    {
     "ename": "MemoryError",
     "evalue": "Unable to allocate 56.2 GiB for an array with shape (2514131365, 3) and data type int64",
     "output_type": "error",
     "traceback": [
      "\u001b[1;31m---------------------------------------------------------------------------\u001b[0m",
      "\u001b[1;31mMemoryError\u001b[0m                               Traceback (most recent call last)",
      "Cell \u001b[1;32mIn[16], line 1\u001b[0m\n\u001b[1;32m----> 1\u001b[0m atlas \u001b[39m=\u001b[39m Atlas(join(\u001b[39m\"\u001b[39;49m\u001b[39massets\u001b[39;49m\u001b[39m\"\u001b[39;49m, \u001b[39m\"\u001b[39;49m\u001b[39mannotations\u001b[39;49m\u001b[39m\"\u001b[39;49m), join(\u001b[39m\"\u001b[39;49m\u001b[39massets\u001b[39;49m\u001b[39m\"\u001b[39;49m, \u001b[39m\"\u001b[39;49m\u001b[39mannotations\u001b[39;49m\u001b[39m\"\u001b[39;49m, \u001b[39m\"\u001b[39;49m\u001b[39mcalibrate.json\u001b[39;49m\u001b[39m\"\u001b[39;49m), save\u001b[39m=\u001b[39;49m\u001b[39mTrue\u001b[39;49;00m)\n",
      "Cell \u001b[1;32mIn[2], line 28\u001b[0m, in \u001b[0;36mAtlas.__init__\u001b[1;34m(self, annotationDirectory, calibrationAnnotation, save)\u001b[0m\n\u001b[0;32m     26\u001b[0m \u001b[39mself\u001b[39m\u001b[39m.\u001b[39mcalibrateImgSize(ct)\n\u001b[0;32m     27\u001b[0m \u001b[39mself\u001b[39m\u001b[39m.\u001b[39mconstructAtlasFromList(annFiles, numSlices)\n\u001b[1;32m---> 28\u001b[0m \u001b[39mself\u001b[39;49m\u001b[39m.\u001b[39;49mconstructImgVoxels(save\u001b[39m=\u001b[39;49msave)\n",
      "Cell \u001b[1;32mIn[2], line 96\u001b[0m, in \u001b[0;36mAtlas.constructImgVoxels\u001b[1;34m(self, save)\u001b[0m\n\u001b[0;32m     94\u001b[0m \u001b[39mif\u001b[39;00m (organ \u001b[39m!=\u001b[39m \u001b[39mNone\u001b[39;00m):\n\u001b[0;32m     95\u001b[0m     \u001b[39mprint\u001b[39m(\u001b[39mf\u001b[39m\u001b[39m\"\u001b[39m\u001b[39mConstructing voxel map for \u001b[39m\u001b[39m{\u001b[39;00morganName\u001b[39m}\u001b[39;00m\u001b[39m\"\u001b[39m)\n\u001b[1;32m---> 96\u001b[0m     organ\u001b[39m.\u001b[39;49mconstructVoxelMap(save)\n\u001b[0;32m     97\u001b[0m     \u001b[39mprint\u001b[39m(\u001b[39m\"\u001b[39m\u001b[39mDone\u001b[39m\u001b[39m\"\u001b[39m)\n",
      "Cell \u001b[1;32mIn[15], line 45\u001b[0m, in \u001b[0;36mOrgan.constructVoxelMap\u001b[1;34m(self, save)\u001b[0m\n\u001b[0;32m     42\u001b[0m     additiveImage \u001b[39m=\u001b[39m np\u001b[39m.\u001b[39madd(img0 \u001b[39m*\u001b[39m  (\u001b[39m1.0\u001b[39m \u001b[39m-\u001b[39m alpha), img1 \u001b[39m*\u001b[39m alpha)\n\u001b[0;32m     43\u001b[0m     \u001b[39mself\u001b[39m\u001b[39m.\u001b[39mvoxelCloud[z] \u001b[39m=\u001b[39m additiveImage \u001b[39m# [np.where(additiveImage > 196)] = 255\u001b[39;00m\n\u001b[1;32m---> 45\u001b[0m \u001b[39mself\u001b[39;49m\u001b[39m.\u001b[39;49mcustomCalibration()\n\u001b[0;32m     46\u001b[0m \u001b[39mself\u001b[39m\u001b[39m.\u001b[39mgenerateMesh(save)\n\u001b[0;32m     48\u001b[0m \u001b[39mif\u001b[39;00m (save):\n",
      "Cell \u001b[1;32mIn[15], line 63\u001b[0m, in \u001b[0;36mOrgan.customCalibration\u001b[1;34m(self)\u001b[0m\n\u001b[0;32m     61\u001b[0m \u001b[39mself\u001b[39m\u001b[39m.\u001b[39mvoxelCloud \u001b[39m=\u001b[39m gaussian_filter(\u001b[39mself\u001b[39m\u001b[39m.\u001b[39mvoxelCloud, \u001b[39m15\u001b[39m)\n\u001b[0;32m     62\u001b[0m \u001b[39mself\u001b[39m\u001b[39m.\u001b[39mvoxelCloud[np\u001b[39m.\u001b[39mwhere(\u001b[39mself\u001b[39m\u001b[39m.\u001b[39mvoxelCloud \u001b[39m>\u001b[39m \u001b[39m100\u001b[39m)] \u001b[39m=\u001b[39m np\u001b[39m.\u001b[39muint8(\u001b[39m255\u001b[39m)\n\u001b[1;32m---> 63\u001b[0m \u001b[39mself\u001b[39m\u001b[39m.\u001b[39mvoxelCloud[np\u001b[39m.\u001b[39;49mwhere(\u001b[39mself\u001b[39;49m\u001b[39m.\u001b[39;49mvoxelCloud \u001b[39m<\u001b[39;49m\u001b[39m=\u001b[39;49m \u001b[39m100\u001b[39;49m)] \u001b[39m=\u001b[39m np\u001b[39m.\u001b[39muint8(\u001b[39m0\u001b[39m)\n",
      "File \u001b[1;32m<__array_function__ internals>:200\u001b[0m, in \u001b[0;36mwhere\u001b[1;34m(*args, **kwargs)\u001b[0m\n",
      "\u001b[1;31mMemoryError\u001b[0m: Unable to allocate 56.2 GiB for an array with shape (2514131365, 3) and data type int64"
     ]
    }
   ],
   "source": [
    "atlas = Atlas(join(\"assets\", \"annotations\"), join(\"assets\", \"annotations\", \"calibrate.json\"), save=True)"
   ]
  },
  {
   "cell_type": "code",
   "execution_count": null,
   "metadata": {},
   "outputs": [],
   "source": []
  }
 ],
 "metadata": {
  "kernelspec": {
   "display_name": "Python 3",
   "language": "python",
   "name": "python3"
  },
  "language_info": {
   "codemirror_mode": {
    "name": "ipython",
    "version": 3
   },
   "file_extension": ".py",
   "mimetype": "text/x-python",
   "name": "python",
   "nbconvert_exporter": "python",
   "pygments_lexer": "ipython3",
   "version": "3.11.3"
  },
  "orig_nbformat": 4
 },
 "nbformat": 4,
 "nbformat_minor": 2
}
