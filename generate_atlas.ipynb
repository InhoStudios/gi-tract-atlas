{
 "cells": [
  {
   "cell_type": "code",
   "execution_count": 14,
   "metadata": {},
   "outputs": [],
   "source": [
    "import numpy as np\n",
    "from numpy.linalg import inv\n",
    "from skimage.measure import marching_cubes\n",
    "from scipy.ndimage import gaussian_filter, zoom\n",
    "from os.path import join\n",
    "from os import listdir\n",
    "import os\n",
    "import json\n",
    "import cv2\n",
    "\n",
    "import meshio\n",
    "import nibabel as nib\n",
    "from reg_utils import get_affine"
   ]
  },
  {
   "attachments": {},
   "cell_type": "markdown",
   "metadata": {},
   "source": [
    "Define file paths"
   ]
  },
  {
   "cell_type": "code",
   "execution_count": 15,
   "metadata": {},
   "outputs": [],
   "source": [
    "WORKDIR = os.getcwd()\n",
    "ANNOTATION_FOLDER = join(WORKDIR, \"assets\", \"annotations\")\n",
    "ATLAS_NIFTI = join(WORKDIR, \"atlas\", \"reference\", \"mouse_nii\", \"atlas.nii\")\n",
    "SAGITTAL_FOLDER = join(WORKDIR, \"assets\", \"sagittal\")\n",
    "DORSAL_FOLDER = join(WORKDIR, \"assets\", \"dorsal\")\n",
    "MESHES_AND_VOXELS_FOLDER = join(WORKDIR, \"data\")\n",
    "IMAGE_FILES = join(WORKDIR, \"assets\", \"images\", \"nii-images\")"
   ]
  },
  {
   "attachments": {},
   "cell_type": "markdown",
   "metadata": {},
   "source": [
    "Define some constants"
   ]
  },
  {
   "cell_type": "code",
   "execution_count": 16,
   "metadata": {},
   "outputs": [],
   "source": [
    "dorsal_height = 1980-168\n",
    "dorsal_width = 2480-1300\n",
    "dorsal_ratio = float(dorsal_height)/float(dorsal_width)\n",
    "sagittal_width = 2550-808\n",
    "sagittal_height = 1617-483\n",
    "sagittal_ratio = float(sagittal_width)/float(sagittal_height)\n",
    "\n",
    "z_height = sagittal_height"
   ]
  },
  {
   "attachments": {},
   "cell_type": "markdown",
   "metadata": {},
   "source": [
    "Create list of images to interpolate between"
   ]
  },
  {
   "cell_type": "code",
   "execution_count": 4,
   "metadata": {},
   "outputs": [],
   "source": [
    "num_dorsal = len(listdir(DORSAL_FOLDER))\n",
    "num_sagittal = len(listdir(SAGITTAL_FOLDER))\n",
    "\n",
    "dorsal_depth = 590 / num_dorsal\n",
    "sagittal_depth = 590 / num_sagittal\n",
    "\n",
    "dorsal_images = [[]] * num_dorsal\n",
    "sagittal_images = [[]] * num_sagittal\n",
    "\n",
    "def get_index(filename):\n",
    "    return int(filename.replace(\"mouse\",\"\").replace(\".png\",\"\"))"
   ]
  },
  {
   "cell_type": "code",
   "execution_count": 5,
   "metadata": {},
   "outputs": [],
   "source": [
    "for image in listdir(SAGITTAL_FOLDER):\n",
    "    if (image.split('.')[1] != \"png\"):\n",
    "        continue\n",
    "    index = get_index(image)\n",
    "    im = cv2.imread(join(SAGITTAL_FOLDER, image))\n",
    "    im = cv2.cvtColor(im, cv2.COLOR_BGR2GRAY)\n",
    "\n",
    "    sagittal_im = im[483:1617, 808:2550]\n",
    "    height = dorsal_width\n",
    "    width = dorsal_height\n",
    "\n",
    "    sagittal_im = cv2.resize(sagittal_im, (width, height), interpolation=cv2.INTER_AREA)\n",
    "    sagittal_images[index] = sagittal_im"
   ]
  },
  {
   "attachments": {},
   "cell_type": "markdown",
   "metadata": {},
   "source": [
    "Create volume and fill with images"
   ]
  },
  {
   "cell_type": "code",
   "execution_count": 6,
   "metadata": {},
   "outputs": [],
   "source": [
    "output_nifti = np.zeros((dorsal_width, dorsal_width, dorsal_height), dtype=np.uint8)\n",
    "\n",
    "for z in range (272, 862):\n",
    "    i = z - 272\n",
    "    try:\n",
    "        index = float(i) / sagittal_depth\n",
    "        ind0 = int(np.floor(index))\n",
    "        if (ind0 < 0):\n",
    "            continue\n",
    "        if (ind0 + 1 >= num_sagittal):\n",
    "            break\n",
    "        img0 = np.array(sagittal_images[ind0]).astype(float)\n",
    "        img1 = np.array(sagittal_images[ind0 + 1]).astype(float)\n",
    "        alpha = (float (i % int(np.round(sagittal_depth)))) / sagittal_depth\n",
    "        additiveImg = np.add(img0 * (1.0 - alpha), img1 * alpha).astype(np.uint8)\n",
    "        output_nifti[z] = additiveImg\n",
    "    except:\n",
    "        pass"
   ]
  },
  {
   "attachments": {},
   "cell_type": "markdown",
   "metadata": {},
   "source": [
    "Flip image along Z axis"
   ]
  },
  {
   "cell_type": "code",
   "execution_count": 7,
   "metadata": {},
   "outputs": [],
   "source": [
    "output_nifti = output_nifti[::, ::, ::-1]"
   ]
  },
  {
   "attachments": {},
   "cell_type": "markdown",
   "metadata": {},
   "source": [
    "Check data type"
   ]
  },
  {
   "cell_type": "code",
   "execution_count": 8,
   "metadata": {},
   "outputs": [
    {
     "name": "stdout",
     "output_type": "stream",
     "text": [
      "uint8\n"
     ]
    }
   ],
   "source": [
    "print(output_nifti.dtype)"
   ]
  },
  {
   "attachments": {},
   "cell_type": "markdown",
   "metadata": {},
   "source": [
    "Save nifti image"
   ]
  },
  {
   "cell_type": "code",
   "execution_count": 9,
   "metadata": {},
   "outputs": [],
   "source": [
    "affine = get_affine()\n",
    "\n",
    "nifti_img = nib.Nifti1Image(output_nifti, affine=affine)\n",
    "nib.save(nifti_img, \"./atlas/reference/mouse_nii/atlas.nii\")"
   ]
  },
  {
   "attachments": {},
   "cell_type": "markdown",
   "metadata": {},
   "source": [
    "Define Organ Class"
   ]
  },
  {
   "cell_type": "code",
   "execution_count": 22,
   "metadata": {},
   "outputs": [],
   "source": [
    "class Organ:\n",
    "    def __init__(self, name, numSlices, depth, dims, affine, volume, label) -> None:\n",
    "        self.name = name\n",
    "        self.numSlices = numSlices\n",
    "        self.slices = [[]] * numSlices\n",
    "        self.scale = 1.0\n",
    "        self.depth = depth * self.scale\n",
    "        self.affine = affine\n",
    "        # offset: [offset_x, offset_y, offset_z]\n",
    "        self.offset = {\n",
    "            \"x\": 250, # 124, # OFFSET_X - 36 * 6, # 424.2\n",
    "            \"y\": 173, # 45, # OFFSET_Y - 80 * 6, # 33\n",
    "            \"z\": 385 # 50 # 65\n",
    "        }\n",
    "        imgSliceDims = (numSlices, dims[1], dims[2])\n",
    "        self.imageSlices: np.ndarray = np.zeros(imgSliceDims, dtype=np.uint8)\n",
    "        self.voxelCloud: np.ndarray = volume # np.zeros(dims, dtype=np.uint8)\n",
    "        self.label = label\n",
    "    \n",
    "    def appendOrganSlice(self, index, entity):\n",
    "        for polygon in entity[\"annotationBlocks\"][0][\"annotations\"]:\n",
    "            polyPts = np.array(polygon[\"segments\"][0].copy()).astype(int)\n",
    "            for i, pt in enumerate(polyPts):\n",
    "                polyPts[i] = [(self.scale * pt[1]) - self.offset['y'], (self.scale * pt[0]) - self.offset['x']]\n",
    "            self.slices[index].append(polyPts)\n",
    "            cv2.fillPoly(self.imageSlices[index], pts=[polyPts], color=(255, 255, 255))\n",
    "\n",
    "    def constructVoxelMap(self, save=False):\n",
    "        for z in range(self.voxelCloud.shape[0]):\n",
    "            # i: voxel layer\n",
    "            i = z - self.offset['z']\n",
    "            index = float(i) / self.depth\n",
    "            ind0 = int(np.floor(index))\n",
    "            if (ind0 < 0):\n",
    "                continue\n",
    "            if (ind0 + 1 >= len(self.imageSlices)):\n",
    "                break\n",
    "            img0 = self.imageSlices[ind0]\n",
    "            img1 = self.imageSlices[ind0 + 1]\n",
    "            img0 = cv2.GaussianBlur(img0, (17, 17), cv2.BORDER_DEFAULT)\n",
    "            img1 = cv2.GaussianBlur(img1, (17, 17), cv2.BORDER_DEFAULT)\n",
    "            alpha = (float(i % int(np.round(self.depth)) ) ) / (self.depth)\n",
    "            additiveImage = np.add(img0 *  (1.0 - alpha), img1 * alpha)\n",
    "            self.voxelCloud[z][np.where(additiveImage > 100)] = np.uint8(self.label)# 255\n",
    "            print(self.label)\n",
    "        \n",
    "        # self.customCalibration()\n",
    "        # self.generateMesh(save)\n",
    "\n",
    "        if (save):\n",
    "            # img = nib.Nifti1Image(self.voxelCloud, self.affine)\n",
    "            # nib.save(img, f\"./exports/{self.name}.nii\")\n",
    "            # print(f\"Saved {self.name} image at ./exports/{self.name}.nii\")\n",
    "            del self.imageSlices\n",
    "            del self.slices\n",
    "    \n",
    "    def customCalibration(self):\n",
    "        self.voxelCloud = np.swapaxes(self.voxelCloud, 0, 1)\n",
    "        self.voxelCloud = self.voxelCloud[::-1,::-1,::-1]\n",
    "\n",
    "        # smooth between slices\n",
    "        # self.voxelCloud = gaussian_filter(self.voxelCloud, 15).astype(np.uint8)\n",
    "        # self.voxelCloud[np.where(self.voxelCloud > 100)] = np.uint8(255)\n",
    "        # self.voxelCloud[np.where(self.voxelCloud <= 100)] = np.uint8(0)\n",
    "        \n",
    "    def generateMesh(self, save=False):\n",
    "        threshold = 50\n",
    "        step_size = 3\n",
    "        print(\"Getting mesh\")\n",
    "        vertices, faces, _, _ = marching_cubes(self.voxelCloud, level=threshold, step_size=step_size)\n",
    "        self.vertices = vertices\n",
    "        self.faces = faces\n",
    "        if (save):\n",
    "            self.saveMesh()\n",
    "\n",
    "    def getMesh(self):\n",
    "        return self.vertices, self.faces\n",
    "\n",
    "    def saveMesh(self):\n",
    "        mesh = meshio.Mesh(self.vertices, {\"triangle\": self.faces})\n",
    "        meshio.write(f\"./exports/{self.name}.obj\", mesh, file_format=\"obj\")\n"
   ]
  },
  {
   "attachments": {},
   "cell_type": "markdown",
   "metadata": {},
   "source": [
    "Define Atlas Class"
   ]
  },
  {
   "cell_type": "code",
   "execution_count": 40,
   "metadata": {},
   "outputs": [],
   "source": [
    "\n",
    "class Atlas:\n",
    "    def __init__(self, annotationDirectory, calibrationAnnotation, save=False) -> None:\n",
    "        # TODO: Get directory length\n",
    "        self.calibration: float = None\n",
    "        self.xOffset: int = None\n",
    "        self.yOffset: int = None\n",
    "        self.zOffset: int = None\n",
    "\n",
    "        self.atlasDims: tuple = None\n",
    "        self.segmentation: np.ndarray = None\n",
    "        self.affine = None\n",
    "\n",
    "        self.organs = {}\n",
    "\n",
    "        self.annotationDirectory = annotationDirectory\n",
    "\n",
    "        # ct = nib.load(\"./assets/images/sample/CT_TS_HEUHR_In111_free_M1039_0h_220721-selfcal.nii\")\n",
    "        ct = nib.load(join(\"atlas\", \"reference\", \"mouse_nii\", \"atlas.nii\"))\n",
    "\n",
    "        annFiles = listdir(annotationDirectory)\n",
    "        numSlices = 0\n",
    "        for file in annFiles:\n",
    "            annList = json.load(open(join(self.annotationDirectory, file)))\n",
    "            numSlices += len(annList)\n",
    "\n",
    "        self.calibrateDepth(calibrationAnnotation, numSlices)\n",
    "        self.calibrateImgSize(ct)\n",
    "        self.constructAtlasFromList(annFiles, numSlices)\n",
    "        self.constructImgVoxels(save=save)\n",
    "        self.finalizeSegmentation()\n",
    "\n",
    "    def constructAtlasFromList(self, fileList, numSlices):\n",
    "        if (self.calibration == None):\n",
    "            print(\"Requires calibration\")\n",
    "            return\n",
    "        # get number of slices\n",
    "        labels = {}\n",
    "        next_label = 1\n",
    "        for file in fileList:\n",
    "            path = join(self.annotationDirectory, file)\n",
    "            if (path == self.calibrationFile):\n",
    "                print(\"Calibration file. Skipping...\")\n",
    "                continue\n",
    "            print(f\"Reading file {file}\")\n",
    "            annotationList = json.load(open(path))\n",
    "            for annotation in annotationList:\n",
    "                fname = annotation[\"documents\"][0][\"name\"]\n",
    "                index = int(fname.split('.')[0].replace(\"rat\",\"\"))\n",
    "                try:\n",
    "                    for entity in annotation[\"annotation\"][\"annotationGroups\"][0][\"annotationEntities\"]:\n",
    "                        name = entity[\"name\"]\n",
    "                        try:\n",
    "                            label = labels[name]\n",
    "                        except(KeyError):\n",
    "                            labels[name] = next_label\n",
    "                            label = next_label\n",
    "                            next_label += 1\n",
    "                            print(label)\n",
    "                        try:\n",
    "                            organ = self.organs[name]\n",
    "                        except(KeyError):\n",
    "                            organ = Organ(name, \n",
    "                                            numSlices, \n",
    "                                            self.calibration, \n",
    "                                            self.atlasDims,\n",
    "                                            self.affine,\n",
    "                                            self.segmentation,\n",
    "                                            label)\n",
    "                            self.organs[name] = organ\n",
    "                        organ.appendOrganSlice(index, entity)\n",
    "                except:\n",
    "                    print(annotation)\n",
    "    \n",
    "    def finalizeSegmentation(self):\n",
    "        self.segmentation = np.swapaxes(self.segmentation, 0, 1)\n",
    "        self.segmentation = self.segmentation[::-1,::-1,::-1]\n",
    "        img = nib.Nifti1Image(self.segmentation, self.affine)\n",
    "        nib.save(img, f\"./exports/segmentation.nii\")\n",
    "\n",
    "    def calibrateDepth(self, calibrationAnnotation, numSlices):\n",
    "        f = open(calibrationAnnotation)\n",
    "        annotation = json.load(f)[0]\n",
    "        body = annotation[\"annotation\"][\"annotationGroups\"][0][\"annotationEntities\"][0]\n",
    "        domain = []\n",
    "        for point in body[\"annotationBlocks\"][0][\"annotations\"][0][\"segments\"][0]:\n",
    "            domain.append(point[1])\n",
    "        minZ = min(domain)\n",
    "        maxZ = max(domain)\n",
    "        diff = maxZ - minZ\n",
    "        self.calibration = 1.0 * float(diff) / float(numSlices)\n",
    "        self.calibrationFile = calibrationAnnotation\n",
    "        return self.calibration\n",
    "    \n",
    "    def calibrateImgSize(self, inputNifti):\n",
    "        \"\"\"\n",
    "        Parameters:\n",
    "            inputNifti: nibabel.nifti1.Nifti1Image\n",
    "        \"\"\"\n",
    "        # TODO: use nifi image size to calibrate canvas size for voxelclouds\n",
    "        shape = inputNifti.get_fdata().shape\n",
    "        self.atlasDims = shape\n",
    "        self.segmentation = np.zeros(shape, dtype=np.uint8)\n",
    "        self.affine = get_affine() #inputNifti.affine\n",
    "        print(self.affine, type(self.affine))\n",
    "        pass\n",
    "\n",
    "    def constructImgVoxels(self, save=False):\n",
    "        for organName in self.organs:\n",
    "            organ = None\n",
    "            try:\n",
    "                organ = self.organs[organName]\n",
    "            except:\n",
    "                continue\n",
    "            if (organ != None):\n",
    "                print(f\"Constructing voxel map for {organName} with label {organ.label}\")\n",
    "                organ.constructVoxelMap(save)\n",
    "                print(np.where(self.segmentation == organ.label))\n",
    "                print(\"Done\")\n",
    "\n"
   ]
  },
  {
   "attachments": {},
   "cell_type": "markdown",
   "metadata": {},
   "source": [
    "Create organ atlas"
   ]
  },
  {
   "cell_type": "code",
   "execution_count": 41,
   "metadata": {},
   "outputs": [
    {
     "name": "stdout",
     "output_type": "stream",
     "text": [
      "[[ 0.16952001  0.          0.         21.58835983]\n",
      " [ 0.          0.16952001  0.         21.69745827]\n",
      " [ 0.          0.          0.168538   95.23029327]\n",
      " [ 0.          0.          0.          1.        ]] <class 'numpy.ndarray'>\n",
      "Calibration file. Skipping...\n",
      "Reading file fixed_annotations.json\n",
      "1\n",
      "2\n",
      "3\n",
      "4\n",
      "5\n",
      "6\n",
      "7\n",
      "8\n",
      "Constructing voxel map for Stomach with label 1\n",
      "(array([400, 400, 400, ..., 742, 742, 742], dtype=int64), array([548, 548, 548, ..., 745, 745, 745], dtype=int64), array([1022, 1023, 1024, ...,  897,  898,  899], dtype=int64))\n",
      "Done\n",
      "Constructing voxel map for Ileum with label 2\n",
      "(array([400, 400, 400, ..., 580, 580, 580], dtype=int64), array([527, 527, 527, ..., 823, 823, 824], dtype=int64), array([1244, 1245, 1246, ..., 1158, 1159, 1155], dtype=int64))\n",
      "Done\n",
      "Constructing voxel map for Jejunum with label 3\n",
      "(array([394, 394, 394, ..., 760, 760, 760], dtype=int64), array([567, 567, 567, ..., 421, 422, 422], dtype=int64), array([1077, 1078, 1079, ..., 1101, 1057, 1058], dtype=int64))\n",
      "Done\n",
      "Constructing voxel map for Liver with label 4\n",
      "(array([406, 406, 406, ..., 736, 736, 736], dtype=int64), array([565, 565, 565, ..., 595, 595, 595], dtype=int64), array([957, 958, 959, ..., 897, 898, 899], dtype=int64))\n",
      "Done\n",
      "Constructing voxel map for Duodenum with label 5\n",
      "(array([466, 466, 466, ..., 664, 664, 664], dtype=int64), array([480, 480, 480, ..., 525, 525, 525], dtype=int64), array([1074, 1075, 1076, ..., 1165, 1166, 1167], dtype=int64))\n",
      "Done\n",
      "Constructing voxel map for Colon with label 6\n",
      "(array([484, 484, 484, ..., 736, 736, 736], dtype=int64), array([713, 713, 713, ..., 856, 857, 857], dtype=int64), array([1263, 1264, 1265, ..., 1206, 1201, 1202], dtype=int64))\n",
      "Done\n",
      "Constructing voxel map for Cecum with label 7\n",
      "(array([522, 522, 522, ..., 700, 700, 700], dtype=int64), array([666, 666, 666, ..., 838, 838, 838], dtype=int64), array([1126, 1127, 1128, ...,  936,  937,  938], dtype=int64))\n",
      "Done\n",
      "Constructing voxel map for Rectum with label 8\n",
      "(array([612, 612, 612, ..., 700, 700, 700], dtype=int64), array([591, 591, 591, ..., 626, 626, 626], dtype=int64), array([1219, 1220, 1221, ..., 1421, 1422, 1423], dtype=int64))\n",
      "Done\n"
     ]
    }
   ],
   "source": [
    "atlas = Atlas(ANNOTATION_FOLDER, join(ANNOTATION_FOLDER, \"calibrate.json\"), save=True)"
   ]
  },
  {
   "cell_type": "code",
   "execution_count": 27,
   "metadata": {},
   "outputs": [],
   "source": [
    "from reg_utils import get_affine\n",
    "\n",
    "AFFINE = get_affine()\n",
    "INV_AFFINE = inv(AFFINE)"
   ]
  },
  {
   "cell_type": "code",
   "execution_count": 28,
   "metadata": {},
   "outputs": [],
   "source": [
    "def rescale_nifti(nifti_file, scale):\n",
    "    image = nib.load(nifti_file)\n",
    "    image_data = image.get_fdata()\n",
    "    rescaled_data = zoom(image_data, scale, order=1)\n",
    "    rescaled_image = nib.Nifti1Image(rescaled_data, AFFINE)\n",
    "    del image\n",
    "    del image_data\n",
    "    return rescaled_image\n",
    "\n",
    "SCALE_FACTOR = 0.3"
   ]
  },
  {
   "cell_type": "code",
   "execution_count": 29,
   "metadata": {},
   "outputs": [
    {
     "ename": "PermissionError",
     "evalue": "[Errno 13] Permission denied: './atlas/reference/mouse_nii/scaled_atlas.nii'",
     "output_type": "error",
     "traceback": [
      "\u001b[1;31m---------------------------------------------------------------------------\u001b[0m",
      "\u001b[1;31mPermissionError\u001b[0m                           Traceback (most recent call last)",
      "Cell \u001b[1;32mIn[29], line 2\u001b[0m\n\u001b[0;32m      1\u001b[0m rescaled_image \u001b[39m=\u001b[39m rescale_nifti(ATLAS_NIFTI, SCALE_FACTOR)\n\u001b[1;32m----> 2\u001b[0m nib\u001b[39m.\u001b[39;49msave(rescaled_image, \u001b[39m\"\u001b[39;49m\u001b[39m./atlas/reference/mouse_nii/scaled_atlas.nii\u001b[39;49m\u001b[39m\"\u001b[39;49m)\n",
      "File \u001b[1;32m~\\AppData\\Local\\Packages\\PythonSoftwareFoundation.Python.3.10_qbz5n2kfra8p0\\LocalCache\\local-packages\\Python310\\site-packages\\nibabel\\loadsave.py:163\u001b[0m, in \u001b[0;36msave\u001b[1;34m(img, filename, **kwargs)\u001b[0m\n\u001b[0;32m    161\u001b[0m \u001b[39m# Save the type as expected\u001b[39;00m\n\u001b[0;32m    162\u001b[0m \u001b[39mtry\u001b[39;00m:\n\u001b[1;32m--> 163\u001b[0m     img\u001b[39m.\u001b[39mto_filename(filename, \u001b[39m*\u001b[39m\u001b[39m*\u001b[39mkwargs)\n\u001b[0;32m    164\u001b[0m \u001b[39mexcept\u001b[39;00m ImageFileError:\n\u001b[0;32m    165\u001b[0m     \u001b[39mpass\u001b[39;00m\n",
      "File \u001b[1;32m~\\AppData\\Local\\Packages\\PythonSoftwareFoundation.Python.3.10_qbz5n2kfra8p0\\LocalCache\\local-packages\\Python310\\site-packages\\nibabel\\filebasedimages.py:307\u001b[0m, in \u001b[0;36mFileBasedImage.to_filename\u001b[1;34m(self, filename, **kwargs)\u001b[0m\n\u001b[0;32m    291\u001b[0m \u001b[39m\u001b[39m\u001b[39mr\u001b[39m\u001b[39m\"\"\"Write image to files implied by filename string\u001b[39;00m\n\u001b[0;32m    292\u001b[0m \n\u001b[0;32m    293\u001b[0m \u001b[39mParameters\u001b[39;00m\n\u001b[1;32m   (...)\u001b[0m\n\u001b[0;32m    304\u001b[0m \u001b[39mNone\u001b[39;00m\n\u001b[0;32m    305\u001b[0m \u001b[39m\"\"\"\u001b[39;00m\n\u001b[0;32m    306\u001b[0m \u001b[39mself\u001b[39m\u001b[39m.\u001b[39mfile_map \u001b[39m=\u001b[39m \u001b[39mself\u001b[39m\u001b[39m.\u001b[39mfilespec_to_file_map(filename)\n\u001b[1;32m--> 307\u001b[0m \u001b[39mself\u001b[39m\u001b[39m.\u001b[39mto_file_map(\u001b[39m*\u001b[39m\u001b[39m*\u001b[39mkwargs)\n",
      "File \u001b[1;32m~\\AppData\\Local\\Packages\\PythonSoftwareFoundation.Python.3.10_qbz5n2kfra8p0\\LocalCache\\local-packages\\Python310\\site-packages\\nibabel\\nifti1.py:2219\u001b[0m, in \u001b[0;36mNifti1Pair.to_file_map\u001b[1;34m(self, file_map, dtype)\u001b[0m\n\u001b[0;32m   2217\u001b[0m \u001b[39mself\u001b[39m\u001b[39m.\u001b[39mget_data_dtype(finalize\u001b[39m=\u001b[39m\u001b[39mTrue\u001b[39;00m)\n\u001b[0;32m   2218\u001b[0m \u001b[39mtry\u001b[39;00m:\n\u001b[1;32m-> 2219\u001b[0m     \u001b[39msuper\u001b[39;49m()\u001b[39m.\u001b[39;49mto_file_map(file_map, dtype)\n\u001b[0;32m   2220\u001b[0m \u001b[39mfinally\u001b[39;00m:\n\u001b[0;32m   2221\u001b[0m     \u001b[39mself\u001b[39m\u001b[39m.\u001b[39mset_data_dtype(img_dtype)\n",
      "File \u001b[1;32m~\\AppData\\Local\\Packages\\PythonSoftwareFoundation.Python.3.10_qbz5n2kfra8p0\\LocalCache\\local-packages\\Python310\\site-packages\\nibabel\\analyze.py:1037\u001b[0m, in \u001b[0;36mAnalyzeImage.to_file_map\u001b[1;34m(self, file_map, dtype)\u001b[0m\n\u001b[0;32m   1033\u001b[0m \u001b[39m# Check if hdr and img refer to same file; this can happen with odd\u001b[39;00m\n\u001b[0;32m   1034\u001b[0m \u001b[39m# analyze images but most often this is because it's a single nifti\u001b[39;00m\n\u001b[0;32m   1035\u001b[0m \u001b[39m# file\u001b[39;00m\n\u001b[0;32m   1036\u001b[0m hdr_img_same \u001b[39m=\u001b[39m hdr_fh\u001b[39m.\u001b[39msame_file_as(img_fh)\n\u001b[1;32m-> 1037\u001b[0m hdrf \u001b[39m=\u001b[39m hdr_fh\u001b[39m.\u001b[39;49mget_prepare_fileobj(mode\u001b[39m=\u001b[39;49m\u001b[39m'\u001b[39;49m\u001b[39mwb\u001b[39;49m\u001b[39m'\u001b[39;49m)\n\u001b[0;32m   1038\u001b[0m \u001b[39mif\u001b[39;00m hdr_img_same:\n\u001b[0;32m   1039\u001b[0m     imgf \u001b[39m=\u001b[39m hdrf\n",
      "File \u001b[1;32m~\\AppData\\Local\\Packages\\PythonSoftwareFoundation.Python.3.10_qbz5n2kfra8p0\\LocalCache\\local-packages\\Python310\\site-packages\\nibabel\\fileholders.py:74\u001b[0m, in \u001b[0;36mFileHolder.get_prepare_fileobj\u001b[1;34m(self, *args, **kwargs)\u001b[0m\n\u001b[0;32m     72\u001b[0m     obj\u001b[39m.\u001b[39mseek(\u001b[39mself\u001b[39m\u001b[39m.\u001b[39mpos)\n\u001b[0;32m     73\u001b[0m \u001b[39melif\u001b[39;00m \u001b[39mself\u001b[39m\u001b[39m.\u001b[39mfilename \u001b[39mis\u001b[39;00m \u001b[39mnot\u001b[39;00m \u001b[39mNone\u001b[39;00m:\n\u001b[1;32m---> 74\u001b[0m     obj \u001b[39m=\u001b[39m ImageOpener(\u001b[39mself\u001b[39m\u001b[39m.\u001b[39mfilename, \u001b[39m*\u001b[39margs, \u001b[39m*\u001b[39m\u001b[39m*\u001b[39mkwargs)\n\u001b[0;32m     75\u001b[0m     \u001b[39mif\u001b[39;00m \u001b[39mself\u001b[39m\u001b[39m.\u001b[39mpos \u001b[39m!=\u001b[39m \u001b[39m0\u001b[39m:\n\u001b[0;32m     76\u001b[0m         obj\u001b[39m.\u001b[39mseek(\u001b[39mself\u001b[39m\u001b[39m.\u001b[39mpos)\n",
      "File \u001b[1;32m~\\AppData\\Local\\Packages\\PythonSoftwareFoundation.Python.3.10_qbz5n2kfra8p0\\LocalCache\\local-packages\\Python310\\site-packages\\nibabel\\openers.py:182\u001b[0m, in \u001b[0;36mOpener.__init__\u001b[1;34m(self, fileish, *args, **kwargs)\u001b[0m\n\u001b[0;32m    179\u001b[0m \u001b[39m# Clear keep_open hint if it is not relevant for the file type\u001b[39;00m\n\u001b[0;32m    180\u001b[0m \u001b[39melse\u001b[39;00m:\n\u001b[0;32m    181\u001b[0m     kwargs\u001b[39m.\u001b[39mpop(\u001b[39m'\u001b[39m\u001b[39mkeep_open\u001b[39m\u001b[39m'\u001b[39m, \u001b[39mNone\u001b[39;00m)\n\u001b[1;32m--> 182\u001b[0m \u001b[39mself\u001b[39m\u001b[39m.\u001b[39mfobj \u001b[39m=\u001b[39m opener(fileish, \u001b[39m*\u001b[39margs, \u001b[39m*\u001b[39m\u001b[39m*\u001b[39mkwargs)\n\u001b[0;32m    183\u001b[0m \u001b[39mself\u001b[39m\u001b[39m.\u001b[39m_name \u001b[39m=\u001b[39m fileish\n\u001b[0;32m    184\u001b[0m \u001b[39mself\u001b[39m\u001b[39m.\u001b[39mme_opened \u001b[39m=\u001b[39m \u001b[39mTrue\u001b[39;00m\n",
      "\u001b[1;31mPermissionError\u001b[0m: [Errno 13] Permission denied: './atlas/reference/mouse_nii/scaled_atlas.nii'"
     ]
    }
   ],
   "source": [
    "rescaled_image = rescale_nifti(ATLAS_NIFTI, SCALE_FACTOR)\n",
    "nib.save(rescaled_image, \"./atlas/reference/mouse_nii/scaled_atlas.nii\")\n"
   ]
  },
  {
   "cell_type": "code",
   "execution_count": 42,
   "metadata": {},
   "outputs": [],
   "source": [
    "FLIPPED = join(WORKDIR, \"exports\")\n",
    "for file in listdir(FLIPPED):\n",
    "    scaled = join(FLIPPED, \"scaled\")\n",
    "    os.makedirs(scaled, exist_ok=True)\n",
    "    if (file.endswith(\".nii\")):\n",
    "        rescaled_image = rescale_nifti(join(FLIPPED, file), SCALE_FACTOR)\n",
    "        nib.save(rescaled_image, join(scaled, f\"scaled_{file}\"))"
   ]
  },
  {
   "cell_type": "code",
   "execution_count": null,
   "metadata": {},
   "outputs": [],
   "source": []
  }
 ],
 "metadata": {
  "kernelspec": {
   "display_name": "Python 3",
   "language": "python",
   "name": "python3"
  },
  "language_info": {
   "codemirror_mode": {
    "name": "ipython",
    "version": 3
   },
   "file_extension": ".py",
   "mimetype": "text/x-python",
   "name": "python",
   "nbconvert_exporter": "python",
   "pygments_lexer": "ipython3",
   "version": "3.10.11"
  },
  "orig_nbformat": 4
 },
 "nbformat": 4,
 "nbformat_minor": 2
}
