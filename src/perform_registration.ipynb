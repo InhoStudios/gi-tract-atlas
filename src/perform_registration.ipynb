{
 "cells": [
  {
   "cell_type": "markdown",
   "metadata": {},
   "source": [
    "Get all imports"
   ]
  },
  {
   "cell_type": "code",
   "execution_count": 1,
   "metadata": {},
   "outputs": [],
   "source": [
    "import nibabel as nib\n",
    "import meshio\n",
    "import pymeshlab as ml\n",
    "import plotly as ply\n",
    "import numpy as np\n",
    "\n",
    "import os\n",
    "from os.path import join\n",
    "\n",
    "from skimage.feature import match_descriptors, plot_matches, SIFT"
   ]
  },
  {
   "cell_type": "markdown",
   "metadata": {},
   "source": [
    "Define the function for extracting high contrast regions from NIFTI images"
   ]
  },
  {
   "cell_type": "code",
   "execution_count": 2,
   "metadata": {},
   "outputs": [],
   "source": [
    "def segment_high_contrast(nifti_file_path: str, threshold: int=0.95):\n",
    "    \"\"\"\n",
    "    Parameters:\n",
    "    nifti_file_path: file path of the nifti image to load and segment\n",
    "    threshold: percentage of maximum response to threshold the contrast to\n",
    "\n",
    "    Returns:\n",
    "    NIFTI image of only the highest values\n",
    "    \"\"\"\n",
    "    nifti_img = nib.load(nifti_file_path)\n",
    "    img_voxels = nifti_img.get_fdata()\n",
    "    resultant_voxels = np.zeros(img_voxels.shape)\n",
    "    indices = np.where(img_voxels > threshold * np.max(img_voxels))\n",
    "    resultant_voxels[indices] = img_voxels[indices]\n",
    "    return resultant_voxels"
   ]
  },
  {
   "cell_type": "markdown",
   "metadata": {},
   "source": [
    "Read in image file"
   ]
  },
  {
   "cell_type": "code",
   "execution_count": 4,
   "metadata": {},
   "outputs": [],
   "source": [
    "ATLAS_DIR = join(\"..\", \"atlas\")\n",
    "REFERENCE_DIR = join(ATLAS_DIR, \"reference\")\n",
    "MOUSE_NII = join(REFERENCE_DIR, \"mouse_nii\", \"scaled_mouse.nii\")"
   ]
  },
  {
   "cell_type": "code",
   "execution_count": 5,
   "metadata": {},
   "outputs": [],
   "source": [
    "high_ct_mouse = segment_high_contrast(MOUSE_NII)"
   ]
  },
  {
   "cell_type": "markdown",
   "metadata": {},
   "source": [
    "Set up SIFT feature extractor"
   ]
  },
  {
   "cell_type": "code",
   "execution_count": 3,
   "metadata": {},
   "outputs": [],
   "source": [
    "feature_extractor = SIFT()"
   ]
  },
  {
   "cell_type": "markdown",
   "metadata": {},
   "source": [
    "Extract features on image"
   ]
  },
  {
   "cell_type": "code",
   "execution_count": 6,
   "metadata": {},
   "outputs": [
    {
     "ename": "ValueError",
     "evalue": "The parameter `image` must be a 2-dimensional array",
     "output_type": "error",
     "traceback": [
      "\u001b[1;31m---------------------------------------------------------------------------\u001b[0m",
      "\u001b[1;31mValueError\u001b[0m                                Traceback (most recent call last)",
      "Cell \u001b[1;32mIn[6], line 1\u001b[0m\n\u001b[1;32m----> 1\u001b[0m \u001b[43mfeature_extractor\u001b[49m\u001b[38;5;241;43m.\u001b[39;49m\u001b[43mdetect_and_extract\u001b[49m\u001b[43m(\u001b[49m\u001b[43mhigh_ct_mouse\u001b[49m\u001b[43m)\u001b[49m\n\u001b[0;32m      2\u001b[0m keypoints \u001b[38;5;241m=\u001b[39m feature_extractor\u001b[38;5;241m.\u001b[39mkeypoints\n\u001b[0;32m      3\u001b[0m descriptors \u001b[38;5;241m=\u001b[39m feature_extractor\u001b[38;5;241m.\u001b[39mdescriptors\n",
      "File \u001b[1;32mc:\\Users\\UrsLab\\Desktop\\Andy\\gi-tract-atlas\\venv\\lib\\site-packages\\skimage\\feature\\sift.py:710\u001b[0m, in \u001b[0;36mSIFT.detect_and_extract\u001b[1;34m(self, image)\u001b[0m\n\u001b[0;32m    701\u001b[0m \u001b[39mdef\u001b[39;00m \u001b[39mdetect_and_extract\u001b[39m(\u001b[39mself\u001b[39m, image):\n\u001b[0;32m    702\u001b[0m \u001b[39m    \u001b[39m\u001b[39m\"\"\"Detect the keypoints and extract their descriptors.\u001b[39;00m\n\u001b[0;32m    703\u001b[0m \n\u001b[0;32m    704\u001b[0m \u001b[39m    Parameters\u001b[39;00m\n\u001b[1;32m   (...)\u001b[0m\n\u001b[0;32m    708\u001b[0m \n\u001b[0;32m    709\u001b[0m \u001b[39m    \"\"\"\u001b[39;00m\n\u001b[1;32m--> 710\u001b[0m     image \u001b[39m=\u001b[39m \u001b[39mself\u001b[39;49m\u001b[39m.\u001b[39;49m_preprocess(image)\n\u001b[0;32m    712\u001b[0m     gaussian_scalespace \u001b[39m=\u001b[39m \u001b[39mself\u001b[39m\u001b[39m.\u001b[39m_create_scalespace(image)\n\u001b[0;32m    714\u001b[0m     dog_scalespace \u001b[39m=\u001b[39m [np\u001b[39m.\u001b[39mdiff(layer, axis\u001b[39m=\u001b[39m\u001b[39m2\u001b[39m) \u001b[39mfor\u001b[39;00m layer \u001b[39min\u001b[39;00m\n\u001b[0;32m    715\u001b[0m                       gaussian_scalespace]\n",
      "File \u001b[1;32mc:\\Users\\UrsLab\\Desktop\\Andy\\gi-tract-atlas\\venv\\lib\\site-packages\\skimage\\feature\\sift.py:651\u001b[0m, in \u001b[0;36mSIFT._preprocess\u001b[1;34m(self, image)\u001b[0m\n\u001b[0;32m    650\u001b[0m \u001b[39mdef\u001b[39;00m \u001b[39m_preprocess\u001b[39m(\u001b[39mself\u001b[39m, image):\n\u001b[1;32m--> 651\u001b[0m     check_nD(image, \u001b[39m2\u001b[39;49m)\n\u001b[0;32m    652\u001b[0m     image \u001b[39m=\u001b[39m img_as_float(image)\n\u001b[0;32m    653\u001b[0m     \u001b[39mself\u001b[39m\u001b[39m.\u001b[39mfloat_dtype \u001b[39m=\u001b[39m _supported_float_type(image\u001b[39m.\u001b[39mdtype)\n",
      "File \u001b[1;32mc:\\Users\\UrsLab\\Desktop\\Andy\\gi-tract-atlas\\venv\\lib\\site-packages\\skimage\\_shared\\utils.py:590\u001b[0m, in \u001b[0;36mcheck_nD\u001b[1;34m(array, ndim, arg_name)\u001b[0m\n\u001b[0;32m    588\u001b[0m     \u001b[39mraise\u001b[39;00m \u001b[39mValueError\u001b[39;00m(msg_empty_array \u001b[39m%\u001b[39m (arg_name))\n\u001b[0;32m    589\u001b[0m \u001b[39mif\u001b[39;00m array\u001b[39m.\u001b[39mndim \u001b[39mnot\u001b[39;00m \u001b[39min\u001b[39;00m ndim:\n\u001b[1;32m--> 590\u001b[0m     \u001b[39mraise\u001b[39;00m \u001b[39mValueError\u001b[39;00m(\n\u001b[0;32m    591\u001b[0m         msg_incorrect_dim \u001b[39m%\u001b[39m (arg_name, \u001b[39m'\u001b[39m\u001b[39m-or-\u001b[39m\u001b[39m'\u001b[39m\u001b[39m.\u001b[39mjoin([\u001b[39mstr\u001b[39m(n) \u001b[39mfor\u001b[39;00m n \u001b[39min\u001b[39;00m ndim]))\n\u001b[0;32m    592\u001b[0m     )\n",
      "\u001b[1;31mValueError\u001b[0m: The parameter `image` must be a 2-dimensional array"
     ]
    }
   ],
   "source": [
    "feature_extractor.detect_and_extract(high_ct_mouse)\n",
    "keypoints = feature_extractor.keypoints\n",
    "descriptors = feature_extractor.descriptors\n",
    "keypoints, descriptors"
   ]
  },
  {
   "cell_type": "code",
   "execution_count": null,
   "metadata": {},
   "outputs": [],
   "source": []
  }
 ],
 "metadata": {
  "kernelspec": {
   "display_name": "Python 3.8.10 ('venv': venv)",
   "language": "python",
   "name": "python3"
  },
  "language_info": {
   "codemirror_mode": {
    "name": "ipython",
    "version": 3
   },
   "file_extension": ".py",
   "mimetype": "text/x-python",
   "name": "python",
   "nbconvert_exporter": "python",
   "pygments_lexer": "ipython3",
   "version": "3.8.10"
  },
  "orig_nbformat": 4,
  "vscode": {
   "interpreter": {
    "hash": "1e7eaf7f2074ed0745cd35ed523795778bd8b2007be11aaeebcb667e4ce271a1"
   }
  }
 },
 "nbformat": 4,
 "nbformat_minor": 2
}
