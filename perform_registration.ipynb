{
 "cells": [
  {
   "cell_type": "markdown",
   "metadata": {},
   "source": [
    "Get all imports"
   ]
  },
  {
   "cell_type": "code",
   "execution_count": 1,
   "metadata": {},
   "outputs": [],
   "source": [
    "import nibabel as nib\n",
    "import meshio\n",
    "import pymeshlab as ml\n",
    "import plotly as ply\n",
    "import numpy as np\n",
    "\n",
    "import os\n",
    "from os.path import join\n",
    "\n",
    "from api.registration_utils import segment_high_contrast, display_images, display_images_with_alpha, start_plot, end_plot, plot_values, update_multires_iterations\n",
    "\n",
    "from skimage.feature import match_descriptors, plot_matches, SIFT\n",
    "\n",
    "import SimpleITK as sitk\n",
    "from ipywidgets import interact, fixed\n",
    "from IPython.display import clear_output"
   ]
  },
  {
   "cell_type": "markdown",
   "metadata": {},
   "source": [
    "Read in image files for reference and target mouse\n",
    "\n",
    "In this case, the target mouse is the \"fixed image\""
   ]
  },
  {
   "cell_type": "code",
   "execution_count": 2,
   "metadata": {},
   "outputs": [],
   "source": [
    "WORKDIR = os.getcwd()\n",
    "ATLAS_DIR = join(WORKDIR, \"atlas\")\n",
    "DATA_DIR = join(WORKDIR, \"data\")\n",
    "ASSETS_DIR = join(WORKDIR, \"assets\")\n",
    "REFERENCE_DIR = join(ATLAS_DIR, \"reference\")\n",
    "\n",
    "REF_NII = join(REFERENCE_DIR, \"mouse_nii\", \"scaled_mouse.nii\")\n",
    "TARG_NII = join(ASSETS_DIR, \"images\", \"sample\", \"CT_TS_HEUHR_In111_free_M1039_0h_220721-selfcal.nii\")"
   ]
  },
  {
   "cell_type": "markdown",
   "metadata": {},
   "source": [
    "Read in image files"
   ]
  },
  {
   "cell_type": "code",
   "execution_count": 3,
   "metadata": {},
   "outputs": [
    {
     "data": {
      "application/vnd.jupyter.widget-view+json": {
       "model_id": "1a2bb73decf34ffe81d3d311b00345da",
       "version_major": 2,
       "version_minor": 0
      },
      "text/plain": [
       "interactive(children=(IntSlider(value=127, description='fixed_image_z', max=255), IntSlider(value=176, descrip…"
      ]
     },
     "metadata": {},
     "output_type": "display_data"
    },
    {
     "data": {
      "text/plain": [
       "<function api.registration_utils.display_images(fixed_image_z, moving_image_z, fixed_npa, moving_npa)>"
      ]
     },
     "execution_count": 3,
     "metadata": {},
     "output_type": "execute_result"
    }
   ],
   "source": [
    "ref_mouse = sitk.GetImageFromArray(segment_high_contrast(REF_NII, threshold=.80))\n",
    "targ_mouse = sitk.GetImageFromArray(segment_high_contrast(TARG_NII, threshold=.15))\n",
    "\n",
    "interact(display_images, \n",
    "         fixed_image_z=(0,targ_mouse.GetSize()[2]-1), \n",
    "         moving_image_z=(0,ref_mouse.GetSize()[2]-1), \n",
    "         fixed_npa = fixed(sitk.GetArrayViewFromImage(targ_mouse)),\n",
    "         moving_npa=fixed(sitk.GetArrayViewFromImage(ref_mouse)))"
   ]
  },
  {
   "cell_type": "markdown",
   "metadata": {},
   "source": [
    "Perform initial alignment using `CenteredTransformInitializer`"
   ]
  },
  {
   "cell_type": "code",
   "execution_count": 4,
   "metadata": {},
   "outputs": [
    {
     "data": {
      "application/vnd.jupyter.widget-view+json": {
       "model_id": "9acfcee72d8340468a520a2ae6a7254a",
       "version_major": 2,
       "version_minor": 0
      },
      "text/plain": [
       "interactive(children=(IntSlider(value=127, description='fixed_image_z', max=255), IntSlider(value=176, descrip…"
      ]
     },
     "metadata": {},
     "output_type": "display_data"
    },
    {
     "data": {
      "text/plain": [
       "<function api.registration_utils.display_images(fixed_image_z, moving_image_z, fixed_npa, moving_npa)>"
      ]
     },
     "execution_count": 4,
     "metadata": {},
     "output_type": "execute_result"
    }
   ],
   "source": [
    "initial_transform = sitk.CenteredTransformInitializer(targ_mouse,\n",
    "                                                      ref_mouse,\n",
    "                                                      sitk.Euler3DTransform(),\n",
    "                                                      sitk.CenteredTransformInitializerFilter.GEOMETRY)\n",
    "\n",
    "ref_resampled = sitk.Resample(ref_mouse, targ_mouse, initial_transform, sitk.sitkLinear, 0.0, ref_mouse.GetPixelID())\n",
    "\n",
    "interact(display_images, \n",
    "         fixed_image_z=(0,targ_mouse.GetSize()[2]-1), \n",
    "         moving_image_z=(0,ref_mouse.GetSize()[2]-1), \n",
    "         fixed_npa = fixed(sitk.GetArrayViewFromImage(targ_mouse)),\n",
    "         moving_npa=fixed(sitk.GetArrayViewFromImage(ref_resampled)))"
   ]
  },
  {
   "cell_type": "markdown",
   "metadata": {},
   "source": [
    "Perform registration using 3D rigid transformations\n",
    "\n",
    "Similarity metric: mutual information (Mattes MI)\n",
    "- Number of histogram bins: 50\n",
    "- Sampling strategy: random\n",
    "- Sampling percentage: 1%\n",
    "\n",
    "Interpolator: sitkLinear\n",
    "\n",
    "Optimizer: Gradient Descent\n",
    "- LR: 1.0\n",
    "- Num Iterations: 100\n",
    "- Convergence tolerance: 1e-6\n",
    "- Convergence window size: 10"
   ]
  },
  {
   "cell_type": "code",
   "execution_count": 7,
   "metadata": {},
   "outputs": [
    {
     "data": {
      "image/png": "[encoded data removed]",
      "text/plain": [
       "<Figure size 640x480 with 1 Axes>"
      ]
     },
     "metadata": {},
     "output_type": "display_data"
    }
   ],
   "source": [
    "registration_method = sitk.ImageRegistrationMethod()\n",
    "\n",
    "registration_method.SetMetricAsMattesMutualInformation(numberOfHistogramBins=50)\n",
    "registration_method.SetMetricSamplingStrategy(registration_method.RANDOM)\n",
    "registration_method.SetMetricSamplingPercentage(0.01)\n",
    "\n",
    "registration_method.SetInterpolator(sitk.sitkLinear)\n",
    "\n",
    "registration_method.SetOptimizerAsGradientDescent(learningRate=1.0,\n",
    "                                                  numberOfIterations=1000,\n",
    "                                                  convergenceMinimumValue=1e-6,\n",
    "                                                  convergenceWindowSize=10)\n",
    "\n",
    "registration_method.SetOptimizerScalesFromPhysicalShift()\n",
    "\n",
    "registration_method.SetShrinkFactorsPerLevel(shrinkFactors=[4, 2, 1])\n",
    "registration_method.SetSmoothingSigmasPerLevel(smoothingSigmas=[2, 1, 0])\n",
    "registration_method.SmoothingSigmasAreSpecifiedInPhysicalUnitsOn()\n",
    "\n",
    "registration_method.SetInitialTransform(initial_transform, inPlace=False)\n",
    "registration_method.AddCommand(sitk.sitkStartEvent, start_plot)\n",
    "registration_method.AddCommand(sitk.sitkEndEvent, end_plot)\n",
    "registration_method.AddCommand(sitk.sitkMultiResolutionIterationEvent, update_multires_iterations)\n",
    "registration_method.AddCommand(sitk.sitkIterationEvent, lambda: plot_values(registration_method))\n",
    "\n",
    "final_transform = registration_method.Execute(sitk.Cast(targ_mouse, sitk.sitkFloat32), sitk.Cast(ref_mouse, sitk.sitkFloat32))"
   ]
  },
  {
   "cell_type": "markdown",
   "metadata": {},
   "source": [
    "Analyze registration"
   ]
  },
  {
   "cell_type": "code",
   "execution_count": 10,
   "metadata": {},
   "outputs": [
    {
     "data": {
      "application/vnd.jupyter.widget-view+json": {
       "model_id": "acbf0823083b4606bbf666f1eaba1337",
       "version_major": 2,
       "version_minor": 0
      },
      "text/plain": [
       "interactive(children=(IntSlider(value=127, description='image_z', max=255), FloatSlider(value=0.5, description…"
      ]
     },
     "metadata": {},
     "output_type": "display_data"
    }
   ],
   "source": [
    "ref_registered = sitk.Resample(ref_mouse, \n",
    "                              targ_mouse, \n",
    "                              final_transform, \n",
    "                              sitk.sitkLinear, \n",
    "                              0.0, \n",
    "                              ref_mouse.GetPixelID())\n",
    "\n",
    "interact(display_images_with_alpha, image_z=(0,targ_mouse.GetSize()[2] - 1), alpha=(0.0,1.0,0.05), fixed = fixed(targ_mouse), moving=fixed(ref_registered));"
   ]
  },
  {
   "cell_type": "code",
   "execution_count": null,
   "metadata": {},
   "outputs": [],
   "source": []
  }
 ],
 "metadata": {
  "kernelspec": {
   "display_name": "Python 3.8.10 ('venv': venv)",
   "language": "python",
   "name": "python3"
  },
  "language_info": {
   "codemirror_mode": {
    "name": "ipython",
    "version": 3
   },
   "file_extension": ".py",
   "mimetype": "text/x-python",
   "name": "python",
   "nbconvert_exporter": "python",
   "pygments_lexer": "ipython3",
   "version": "3.8.10"
  },
  "orig_nbformat": 4,
  "vscode": {
   "interpreter": {
    "hash": "1e7eaf7f2074ed0745cd35ed523795778bd8b2007be11aaeebcb667e4ce271a1"
   }
  }
 },
 "nbformat": 4,
 "nbformat_minor": 2
}
